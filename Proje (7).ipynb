{
  "nbformat": 4,
  "nbformat_minor": 0,
  "metadata": {
    "colab": {
      "provenance": []
    },
    "kernelspec": {
      "name": "python3",
      "display_name": "Python 3"
    },
    "language_info": {
      "name": "python"
    },
    "widgets": {
      "application/vnd.jupyter.widget-state+json": {
        "148a19ee3cdc4ad2ba5a8aaafcda23ee": {
          "model_module": "@jupyter-widgets/controls",
          "model_name": "HBoxModel",
          "model_module_version": "1.5.0",
          "state": {
            "_dom_classes": [],
            "_model_module": "@jupyter-widgets/controls",
            "_model_module_version": "1.5.0",
            "_model_name": "HBoxModel",
            "_view_count": null,
            "_view_module": "@jupyter-widgets/controls",
            "_view_module_version": "1.5.0",
            "_view_name": "HBoxView",
            "box_style": "",
            "children": [
              "IPY_MODEL_00dfb01f794b4aafa90d8ce8f80a5bf8",
              "IPY_MODEL_f85d27bb6c48414b9e7adbb67c6ad0c6",
              "IPY_MODEL_8f956ac36ecb444abb4e31542a266ce8"
            ],
            "layout": "IPY_MODEL_728f79c694494ab6bc0051ddd9ae82b5"
          }
        },
        "00dfb01f794b4aafa90d8ce8f80a5bf8": {
          "model_module": "@jupyter-widgets/controls",
          "model_name": "HTMLModel",
          "model_module_version": "1.5.0",
          "state": {
            "_dom_classes": [],
            "_model_module": "@jupyter-widgets/controls",
            "_model_module_version": "1.5.0",
            "_model_name": "HTMLModel",
            "_view_count": null,
            "_view_module": "@jupyter-widgets/controls",
            "_view_module_version": "1.5.0",
            "_view_name": "HTMLView",
            "description": "",
            "description_tooltip": null,
            "layout": "IPY_MODEL_82eccc44332d4ad69b5995e1c3293d0a",
            "placeholder": "​",
            "style": "IPY_MODEL_6a8451ac752649f4b1fd9f45e7641678",
            "value": "Downloading: 100%"
          }
        },
        "f85d27bb6c48414b9e7adbb67c6ad0c6": {
          "model_module": "@jupyter-widgets/controls",
          "model_name": "FloatProgressModel",
          "model_module_version": "1.5.0",
          "state": {
            "_dom_classes": [],
            "_model_module": "@jupyter-widgets/controls",
            "_model_module_version": "1.5.0",
            "_model_name": "FloatProgressModel",
            "_view_count": null,
            "_view_module": "@jupyter-widgets/controls",
            "_view_module_version": "1.5.0",
            "_view_name": "ProgressView",
            "bar_style": "success",
            "description": "",
            "description_tooltip": null,
            "layout": "IPY_MODEL_5efc48b20dc644b7baf125f721909734",
            "max": 1912529,
            "min": 0,
            "orientation": "horizontal",
            "style": "IPY_MODEL_35db4a6057a045cb9032641b1b1033c3",
            "value": 1912529
          }
        },
        "8f956ac36ecb444abb4e31542a266ce8": {
          "model_module": "@jupyter-widgets/controls",
          "model_name": "HTMLModel",
          "model_module_version": "1.5.0",
          "state": {
            "_dom_classes": [],
            "_model_module": "@jupyter-widgets/controls",
            "_model_module_version": "1.5.0",
            "_model_name": "HTMLModel",
            "_view_count": null,
            "_view_module": "@jupyter-widgets/controls",
            "_view_module_version": "1.5.0",
            "_view_name": "HTMLView",
            "description": "",
            "description_tooltip": null,
            "layout": "IPY_MODEL_1034d6a6b9824a4bb78651fcfa9e9f53",
            "placeholder": "​",
            "style": "IPY_MODEL_ac2cd1a9e58f4146b445cbeedfc21fd4",
            "value": " 1.91M/1.91M [00:01&lt;00:00, 2.66MB/s]"
          }
        },
        "728f79c694494ab6bc0051ddd9ae82b5": {
          "model_module": "@jupyter-widgets/base",
          "model_name": "LayoutModel",
          "model_module_version": "1.2.0",
          "state": {
            "_model_module": "@jupyter-widgets/base",
            "_model_module_version": "1.2.0",
            "_model_name": "LayoutModel",
            "_view_count": null,
            "_view_module": "@jupyter-widgets/base",
            "_view_module_version": "1.2.0",
            "_view_name": "LayoutView",
            "align_content": null,
            "align_items": null,
            "align_self": null,
            "border": null,
            "bottom": null,
            "display": null,
            "flex": null,
            "flex_flow": null,
            "grid_area": null,
            "grid_auto_columns": null,
            "grid_auto_flow": null,
            "grid_auto_rows": null,
            "grid_column": null,
            "grid_gap": null,
            "grid_row": null,
            "grid_template_areas": null,
            "grid_template_columns": null,
            "grid_template_rows": null,
            "height": null,
            "justify_content": null,
            "justify_items": null,
            "left": null,
            "margin": null,
            "max_height": null,
            "max_width": null,
            "min_height": null,
            "min_width": null,
            "object_fit": null,
            "object_position": null,
            "order": null,
            "overflow": null,
            "overflow_x": null,
            "overflow_y": null,
            "padding": null,
            "right": null,
            "top": null,
            "visibility": null,
            "width": null
          }
        },
        "82eccc44332d4ad69b5995e1c3293d0a": {
          "model_module": "@jupyter-widgets/base",
          "model_name": "LayoutModel",
          "model_module_version": "1.2.0",
          "state": {
            "_model_module": "@jupyter-widgets/base",
            "_model_module_version": "1.2.0",
            "_model_name": "LayoutModel",
            "_view_count": null,
            "_view_module": "@jupyter-widgets/base",
            "_view_module_version": "1.2.0",
            "_view_name": "LayoutView",
            "align_content": null,
            "align_items": null,
            "align_self": null,
            "border": null,
            "bottom": null,
            "display": null,
            "flex": null,
            "flex_flow": null,
            "grid_area": null,
            "grid_auto_columns": null,
            "grid_auto_flow": null,
            "grid_auto_rows": null,
            "grid_column": null,
            "grid_gap": null,
            "grid_row": null,
            "grid_template_areas": null,
            "grid_template_columns": null,
            "grid_template_rows": null,
            "height": null,
            "justify_content": null,
            "justify_items": null,
            "left": null,
            "margin": null,
            "max_height": null,
            "max_width": null,
            "min_height": null,
            "min_width": null,
            "object_fit": null,
            "object_position": null,
            "order": null,
            "overflow": null,
            "overflow_x": null,
            "overflow_y": null,
            "padding": null,
            "right": null,
            "top": null,
            "visibility": null,
            "width": null
          }
        },
        "6a8451ac752649f4b1fd9f45e7641678": {
          "model_module": "@jupyter-widgets/controls",
          "model_name": "DescriptionStyleModel",
          "model_module_version": "1.5.0",
          "state": {
            "_model_module": "@jupyter-widgets/controls",
            "_model_module_version": "1.5.0",
            "_model_name": "DescriptionStyleModel",
            "_view_count": null,
            "_view_module": "@jupyter-widgets/base",
            "_view_module_version": "1.2.0",
            "_view_name": "StyleView",
            "description_width": ""
          }
        },
        "5efc48b20dc644b7baf125f721909734": {
          "model_module": "@jupyter-widgets/base",
          "model_name": "LayoutModel",
          "model_module_version": "1.2.0",
          "state": {
            "_model_module": "@jupyter-widgets/base",
            "_model_module_version": "1.2.0",
            "_model_name": "LayoutModel",
            "_view_count": null,
            "_view_module": "@jupyter-widgets/base",
            "_view_module_version": "1.2.0",
            "_view_name": "LayoutView",
            "align_content": null,
            "align_items": null,
            "align_self": null,
            "border": null,
            "bottom": null,
            "display": null,
            "flex": null,
            "flex_flow": null,
            "grid_area": null,
            "grid_auto_columns": null,
            "grid_auto_flow": null,
            "grid_auto_rows": null,
            "grid_column": null,
            "grid_gap": null,
            "grid_row": null,
            "grid_template_areas": null,
            "grid_template_columns": null,
            "grid_template_rows": null,
            "height": null,
            "justify_content": null,
            "justify_items": null,
            "left": null,
            "margin": null,
            "max_height": null,
            "max_width": null,
            "min_height": null,
            "min_width": null,
            "object_fit": null,
            "object_position": null,
            "order": null,
            "overflow": null,
            "overflow_x": null,
            "overflow_y": null,
            "padding": null,
            "right": null,
            "top": null,
            "visibility": null,
            "width": null
          }
        },
        "35db4a6057a045cb9032641b1b1033c3": {
          "model_module": "@jupyter-widgets/controls",
          "model_name": "ProgressStyleModel",
          "model_module_version": "1.5.0",
          "state": {
            "_model_module": "@jupyter-widgets/controls",
            "_model_module_version": "1.5.0",
            "_model_name": "ProgressStyleModel",
            "_view_count": null,
            "_view_module": "@jupyter-widgets/base",
            "_view_module_version": "1.2.0",
            "_view_name": "StyleView",
            "bar_color": null,
            "description_width": ""
          }
        },
        "1034d6a6b9824a4bb78651fcfa9e9f53": {
          "model_module": "@jupyter-widgets/base",
          "model_name": "LayoutModel",
          "model_module_version": "1.2.0",
          "state": {
            "_model_module": "@jupyter-widgets/base",
            "_model_module_version": "1.2.0",
            "_model_name": "LayoutModel",
            "_view_count": null,
            "_view_module": "@jupyter-widgets/base",
            "_view_module_version": "1.2.0",
            "_view_name": "LayoutView",
            "align_content": null,
            "align_items": null,
            "align_self": null,
            "border": null,
            "bottom": null,
            "display": null,
            "flex": null,
            "flex_flow": null,
            "grid_area": null,
            "grid_auto_columns": null,
            "grid_auto_flow": null,
            "grid_auto_rows": null,
            "grid_column": null,
            "grid_gap": null,
            "grid_row": null,
            "grid_template_areas": null,
            "grid_template_columns": null,
            "grid_template_rows": null,
            "height": null,
            "justify_content": null,
            "justify_items": null,
            "left": null,
            "margin": null,
            "max_height": null,
            "max_width": null,
            "min_height": null,
            "min_width": null,
            "object_fit": null,
            "object_position": null,
            "order": null,
            "overflow": null,
            "overflow_x": null,
            "overflow_y": null,
            "padding": null,
            "right": null,
            "top": null,
            "visibility": null,
            "width": null
          }
        },
        "ac2cd1a9e58f4146b445cbeedfc21fd4": {
          "model_module": "@jupyter-widgets/controls",
          "model_name": "DescriptionStyleModel",
          "model_module_version": "1.5.0",
          "state": {
            "_model_module": "@jupyter-widgets/controls",
            "_model_module_version": "1.5.0",
            "_model_name": "DescriptionStyleModel",
            "_view_count": null,
            "_view_module": "@jupyter-widgets/base",
            "_view_module_version": "1.2.0",
            "_view_name": "StyleView",
            "description_width": ""
          }
        },
        "d4fd4dd003d34bf58870e72e066f8093": {
          "model_module": "@jupyter-widgets/controls",
          "model_name": "HBoxModel",
          "model_module_version": "1.5.0",
          "state": {
            "_dom_classes": [],
            "_model_module": "@jupyter-widgets/controls",
            "_model_module_version": "1.5.0",
            "_model_name": "HBoxModel",
            "_view_count": null,
            "_view_module": "@jupyter-widgets/controls",
            "_view_module_version": "1.5.0",
            "_view_name": "HBoxView",
            "box_style": "",
            "children": [
              "IPY_MODEL_92bf9f2d52b54020b9a5d0e4696a26e7",
              "IPY_MODEL_eb40b98a07674034962499dd038ba7a0",
              "IPY_MODEL_ea105554c2c84cf6a879ab37cf0d85b7"
            ],
            "layout": "IPY_MODEL_dd70f64c2cbf4c358fe502cbfc6489fb"
          }
        },
        "92bf9f2d52b54020b9a5d0e4696a26e7": {
          "model_module": "@jupyter-widgets/controls",
          "model_name": "HTMLModel",
          "model_module_version": "1.5.0",
          "state": {
            "_dom_classes": [],
            "_model_module": "@jupyter-widgets/controls",
            "_model_module_version": "1.5.0",
            "_model_name": "HTMLModel",
            "_view_count": null,
            "_view_module": "@jupyter-widgets/controls",
            "_view_module_version": "1.5.0",
            "_view_name": "HTMLView",
            "description": "",
            "description_tooltip": null,
            "layout": "IPY_MODEL_bbb08878f8e44c7cb08e611a76f2a5b0",
            "placeholder": "​",
            "style": "IPY_MODEL_adf8dd3b05fc4887ad62e55aa0818ca2",
            "value": "Downloading: 100%"
          }
        },
        "eb40b98a07674034962499dd038ba7a0": {
          "model_module": "@jupyter-widgets/controls",
          "model_name": "FloatProgressModel",
          "model_module_version": "1.5.0",
          "state": {
            "_dom_classes": [],
            "_model_module": "@jupyter-widgets/controls",
            "_model_module_version": "1.5.0",
            "_model_name": "FloatProgressModel",
            "_view_count": null,
            "_view_module": "@jupyter-widgets/controls",
            "_view_module_version": "1.5.0",
            "_view_name": "ProgressView",
            "bar_style": "success",
            "description": "",
            "description_tooltip": null,
            "layout": "IPY_MODEL_130ac8c7d9ef4fdcbf55de96737dcab8",
            "max": 65,
            "min": 0,
            "orientation": "horizontal",
            "style": "IPY_MODEL_4da7eff7970b4168a3c48a763369eccf",
            "value": 65
          }
        },
        "ea105554c2c84cf6a879ab37cf0d85b7": {
          "model_module": "@jupyter-widgets/controls",
          "model_name": "HTMLModel",
          "model_module_version": "1.5.0",
          "state": {
            "_dom_classes": [],
            "_model_module": "@jupyter-widgets/controls",
            "_model_module_version": "1.5.0",
            "_model_name": "HTMLModel",
            "_view_count": null,
            "_view_module": "@jupyter-widgets/controls",
            "_view_module_version": "1.5.0",
            "_view_name": "HTMLView",
            "description": "",
            "description_tooltip": null,
            "layout": "IPY_MODEL_2ab69a0ac17a41e98c6635afba5e4456",
            "placeholder": "​",
            "style": "IPY_MODEL_fa7ef721073547f493bfbd6362623a3b",
            "value": " 65.0/65.0 [00:00&lt;00:00, 796B/s]"
          }
        },
        "dd70f64c2cbf4c358fe502cbfc6489fb": {
          "model_module": "@jupyter-widgets/base",
          "model_name": "LayoutModel",
          "model_module_version": "1.2.0",
          "state": {
            "_model_module": "@jupyter-widgets/base",
            "_model_module_version": "1.2.0",
            "_model_name": "LayoutModel",
            "_view_count": null,
            "_view_module": "@jupyter-widgets/base",
            "_view_module_version": "1.2.0",
            "_view_name": "LayoutView",
            "align_content": null,
            "align_items": null,
            "align_self": null,
            "border": null,
            "bottom": null,
            "display": null,
            "flex": null,
            "flex_flow": null,
            "grid_area": null,
            "grid_auto_columns": null,
            "grid_auto_flow": null,
            "grid_auto_rows": null,
            "grid_column": null,
            "grid_gap": null,
            "grid_row": null,
            "grid_template_areas": null,
            "grid_template_columns": null,
            "grid_template_rows": null,
            "height": null,
            "justify_content": null,
            "justify_items": null,
            "left": null,
            "margin": null,
            "max_height": null,
            "max_width": null,
            "min_height": null,
            "min_width": null,
            "object_fit": null,
            "object_position": null,
            "order": null,
            "overflow": null,
            "overflow_x": null,
            "overflow_y": null,
            "padding": null,
            "right": null,
            "top": null,
            "visibility": null,
            "width": null
          }
        },
        "bbb08878f8e44c7cb08e611a76f2a5b0": {
          "model_module": "@jupyter-widgets/base",
          "model_name": "LayoutModel",
          "model_module_version": "1.2.0",
          "state": {
            "_model_module": "@jupyter-widgets/base",
            "_model_module_version": "1.2.0",
            "_model_name": "LayoutModel",
            "_view_count": null,
            "_view_module": "@jupyter-widgets/base",
            "_view_module_version": "1.2.0",
            "_view_name": "LayoutView",
            "align_content": null,
            "align_items": null,
            "align_self": null,
            "border": null,
            "bottom": null,
            "display": null,
            "flex": null,
            "flex_flow": null,
            "grid_area": null,
            "grid_auto_columns": null,
            "grid_auto_flow": null,
            "grid_auto_rows": null,
            "grid_column": null,
            "grid_gap": null,
            "grid_row": null,
            "grid_template_areas": null,
            "grid_template_columns": null,
            "grid_template_rows": null,
            "height": null,
            "justify_content": null,
            "justify_items": null,
            "left": null,
            "margin": null,
            "max_height": null,
            "max_width": null,
            "min_height": null,
            "min_width": null,
            "object_fit": null,
            "object_position": null,
            "order": null,
            "overflow": null,
            "overflow_x": null,
            "overflow_y": null,
            "padding": null,
            "right": null,
            "top": null,
            "visibility": null,
            "width": null
          }
        },
        "adf8dd3b05fc4887ad62e55aa0818ca2": {
          "model_module": "@jupyter-widgets/controls",
          "model_name": "DescriptionStyleModel",
          "model_module_version": "1.5.0",
          "state": {
            "_model_module": "@jupyter-widgets/controls",
            "_model_module_version": "1.5.0",
            "_model_name": "DescriptionStyleModel",
            "_view_count": null,
            "_view_module": "@jupyter-widgets/base",
            "_view_module_version": "1.2.0",
            "_view_name": "StyleView",
            "description_width": ""
          }
        },
        "130ac8c7d9ef4fdcbf55de96737dcab8": {
          "model_module": "@jupyter-widgets/base",
          "model_name": "LayoutModel",
          "model_module_version": "1.2.0",
          "state": {
            "_model_module": "@jupyter-widgets/base",
            "_model_module_version": "1.2.0",
            "_model_name": "LayoutModel",
            "_view_count": null,
            "_view_module": "@jupyter-widgets/base",
            "_view_module_version": "1.2.0",
            "_view_name": "LayoutView",
            "align_content": null,
            "align_items": null,
            "align_self": null,
            "border": null,
            "bottom": null,
            "display": null,
            "flex": null,
            "flex_flow": null,
            "grid_area": null,
            "grid_auto_columns": null,
            "grid_auto_flow": null,
            "grid_auto_rows": null,
            "grid_column": null,
            "grid_gap": null,
            "grid_row": null,
            "grid_template_areas": null,
            "grid_template_columns": null,
            "grid_template_rows": null,
            "height": null,
            "justify_content": null,
            "justify_items": null,
            "left": null,
            "margin": null,
            "max_height": null,
            "max_width": null,
            "min_height": null,
            "min_width": null,
            "object_fit": null,
            "object_position": null,
            "order": null,
            "overflow": null,
            "overflow_x": null,
            "overflow_y": null,
            "padding": null,
            "right": null,
            "top": null,
            "visibility": null,
            "width": null
          }
        },
        "4da7eff7970b4168a3c48a763369eccf": {
          "model_module": "@jupyter-widgets/controls",
          "model_name": "ProgressStyleModel",
          "model_module_version": "1.5.0",
          "state": {
            "_model_module": "@jupyter-widgets/controls",
            "_model_module_version": "1.5.0",
            "_model_name": "ProgressStyleModel",
            "_view_count": null,
            "_view_module": "@jupyter-widgets/base",
            "_view_module_version": "1.2.0",
            "_view_name": "StyleView",
            "bar_color": null,
            "description_width": ""
          }
        },
        "2ab69a0ac17a41e98c6635afba5e4456": {
          "model_module": "@jupyter-widgets/base",
          "model_name": "LayoutModel",
          "model_module_version": "1.2.0",
          "state": {
            "_model_module": "@jupyter-widgets/base",
            "_model_module_version": "1.2.0",
            "_model_name": "LayoutModel",
            "_view_count": null,
            "_view_module": "@jupyter-widgets/base",
            "_view_module_version": "1.2.0",
            "_view_name": "LayoutView",
            "align_content": null,
            "align_items": null,
            "align_self": null,
            "border": null,
            "bottom": null,
            "display": null,
            "flex": null,
            "flex_flow": null,
            "grid_area": null,
            "grid_auto_columns": null,
            "grid_auto_flow": null,
            "grid_auto_rows": null,
            "grid_column": null,
            "grid_gap": null,
            "grid_row": null,
            "grid_template_areas": null,
            "grid_template_columns": null,
            "grid_template_rows": null,
            "height": null,
            "justify_content": null,
            "justify_items": null,
            "left": null,
            "margin": null,
            "max_height": null,
            "max_width": null,
            "min_height": null,
            "min_width": null,
            "object_fit": null,
            "object_position": null,
            "order": null,
            "overflow": null,
            "overflow_x": null,
            "overflow_y": null,
            "padding": null,
            "right": null,
            "top": null,
            "visibility": null,
            "width": null
          }
        },
        "fa7ef721073547f493bfbd6362623a3b": {
          "model_module": "@jupyter-widgets/controls",
          "model_name": "DescriptionStyleModel",
          "model_module_version": "1.5.0",
          "state": {
            "_model_module": "@jupyter-widgets/controls",
            "_model_module_version": "1.5.0",
            "_model_name": "DescriptionStyleModel",
            "_view_count": null,
            "_view_module": "@jupyter-widgets/base",
            "_view_module_version": "1.2.0",
            "_view_name": "StyleView",
            "description_width": ""
          }
        },
        "426c7dbd586e4cfbaa40989893cbdf4f": {
          "model_module": "@jupyter-widgets/controls",
          "model_name": "HBoxModel",
          "model_module_version": "1.5.0",
          "state": {
            "_dom_classes": [],
            "_model_module": "@jupyter-widgets/controls",
            "_model_module_version": "1.5.0",
            "_model_name": "HBoxModel",
            "_view_count": null,
            "_view_module": "@jupyter-widgets/controls",
            "_view_module_version": "1.5.0",
            "_view_name": "HBoxView",
            "box_style": "",
            "children": [
              "IPY_MODEL_c31cbba407b747b7b6168360d24e77f2",
              "IPY_MODEL_5c065b62080d46879f20e63262a18c28",
              "IPY_MODEL_1bb0f2b006964ed0ae3a1c8116d39b1d"
            ],
            "layout": "IPY_MODEL_fc30869a47164391bc3515e32268f731"
          }
        },
        "c31cbba407b747b7b6168360d24e77f2": {
          "model_module": "@jupyter-widgets/controls",
          "model_name": "HTMLModel",
          "model_module_version": "1.5.0",
          "state": {
            "_dom_classes": [],
            "_model_module": "@jupyter-widgets/controls",
            "_model_module_version": "1.5.0",
            "_model_name": "HTMLModel",
            "_view_count": null,
            "_view_module": "@jupyter-widgets/controls",
            "_view_module_version": "1.5.0",
            "_view_name": "HTMLView",
            "description": "",
            "description_tooltip": null,
            "layout": "IPY_MODEL_ce20a9ed3b64469e82cfa99b5d6e46d8",
            "placeholder": "​",
            "style": "IPY_MODEL_27690f093a4143c191499becccb1563d",
            "value": "Downloading: 100%"
          }
        },
        "5c065b62080d46879f20e63262a18c28": {
          "model_module": "@jupyter-widgets/controls",
          "model_name": "FloatProgressModel",
          "model_module_version": "1.5.0",
          "state": {
            "_dom_classes": [],
            "_model_module": "@jupyter-widgets/controls",
            "_model_module_version": "1.5.0",
            "_model_name": "FloatProgressModel",
            "_view_count": null,
            "_view_module": "@jupyter-widgets/controls",
            "_view_module_version": "1.5.0",
            "_view_name": "ProgressView",
            "bar_style": "success",
            "description": "",
            "description_tooltip": null,
            "layout": "IPY_MODEL_04071ede5c9546a09480641d2d03ed37",
            "max": 86,
            "min": 0,
            "orientation": "horizontal",
            "style": "IPY_MODEL_8393664236d34029b2dd841d432b9234",
            "value": 86
          }
        },
        "1bb0f2b006964ed0ae3a1c8116d39b1d": {
          "model_module": "@jupyter-widgets/controls",
          "model_name": "HTMLModel",
          "model_module_version": "1.5.0",
          "state": {
            "_dom_classes": [],
            "_model_module": "@jupyter-widgets/controls",
            "_model_module_version": "1.5.0",
            "_model_name": "HTMLModel",
            "_view_count": null,
            "_view_module": "@jupyter-widgets/controls",
            "_view_module_version": "1.5.0",
            "_view_name": "HTMLView",
            "description": "",
            "description_tooltip": null,
            "layout": "IPY_MODEL_c3847befbafa48fc81e65c15f47fa114",
            "placeholder": "​",
            "style": "IPY_MODEL_2d7df7be96634771b1990e2da064f112",
            "value": " 86.0/86.0 [00:00&lt;00:00, 1.10kB/s]"
          }
        },
        "fc30869a47164391bc3515e32268f731": {
          "model_module": "@jupyter-widgets/base",
          "model_name": "LayoutModel",
          "model_module_version": "1.2.0",
          "state": {
            "_model_module": "@jupyter-widgets/base",
            "_model_module_version": "1.2.0",
            "_model_name": "LayoutModel",
            "_view_count": null,
            "_view_module": "@jupyter-widgets/base",
            "_view_module_version": "1.2.0",
            "_view_name": "LayoutView",
            "align_content": null,
            "align_items": null,
            "align_self": null,
            "border": null,
            "bottom": null,
            "display": null,
            "flex": null,
            "flex_flow": null,
            "grid_area": null,
            "grid_auto_columns": null,
            "grid_auto_flow": null,
            "grid_auto_rows": null,
            "grid_column": null,
            "grid_gap": null,
            "grid_row": null,
            "grid_template_areas": null,
            "grid_template_columns": null,
            "grid_template_rows": null,
            "height": null,
            "justify_content": null,
            "justify_items": null,
            "left": null,
            "margin": null,
            "max_height": null,
            "max_width": null,
            "min_height": null,
            "min_width": null,
            "object_fit": null,
            "object_position": null,
            "order": null,
            "overflow": null,
            "overflow_x": null,
            "overflow_y": null,
            "padding": null,
            "right": null,
            "top": null,
            "visibility": null,
            "width": null
          }
        },
        "ce20a9ed3b64469e82cfa99b5d6e46d8": {
          "model_module": "@jupyter-widgets/base",
          "model_name": "LayoutModel",
          "model_module_version": "1.2.0",
          "state": {
            "_model_module": "@jupyter-widgets/base",
            "_model_module_version": "1.2.0",
            "_model_name": "LayoutModel",
            "_view_count": null,
            "_view_module": "@jupyter-widgets/base",
            "_view_module_version": "1.2.0",
            "_view_name": "LayoutView",
            "align_content": null,
            "align_items": null,
            "align_self": null,
            "border": null,
            "bottom": null,
            "display": null,
            "flex": null,
            "flex_flow": null,
            "grid_area": null,
            "grid_auto_columns": null,
            "grid_auto_flow": null,
            "grid_auto_rows": null,
            "grid_column": null,
            "grid_gap": null,
            "grid_row": null,
            "grid_template_areas": null,
            "grid_template_columns": null,
            "grid_template_rows": null,
            "height": null,
            "justify_content": null,
            "justify_items": null,
            "left": null,
            "margin": null,
            "max_height": null,
            "max_width": null,
            "min_height": null,
            "min_width": null,
            "object_fit": null,
            "object_position": null,
            "order": null,
            "overflow": null,
            "overflow_x": null,
            "overflow_y": null,
            "padding": null,
            "right": null,
            "top": null,
            "visibility": null,
            "width": null
          }
        },
        "27690f093a4143c191499becccb1563d": {
          "model_module": "@jupyter-widgets/controls",
          "model_name": "DescriptionStyleModel",
          "model_module_version": "1.5.0",
          "state": {
            "_model_module": "@jupyter-widgets/controls",
            "_model_module_version": "1.5.0",
            "_model_name": "DescriptionStyleModel",
            "_view_count": null,
            "_view_module": "@jupyter-widgets/base",
            "_view_module_version": "1.2.0",
            "_view_name": "StyleView",
            "description_width": ""
          }
        },
        "04071ede5c9546a09480641d2d03ed37": {
          "model_module": "@jupyter-widgets/base",
          "model_name": "LayoutModel",
          "model_module_version": "1.2.0",
          "state": {
            "_model_module": "@jupyter-widgets/base",
            "_model_module_version": "1.2.0",
            "_model_name": "LayoutModel",
            "_view_count": null,
            "_view_module": "@jupyter-widgets/base",
            "_view_module_version": "1.2.0",
            "_view_name": "LayoutView",
            "align_content": null,
            "align_items": null,
            "align_self": null,
            "border": null,
            "bottom": null,
            "display": null,
            "flex": null,
            "flex_flow": null,
            "grid_area": null,
            "grid_auto_columns": null,
            "grid_auto_flow": null,
            "grid_auto_rows": null,
            "grid_column": null,
            "grid_gap": null,
            "grid_row": null,
            "grid_template_areas": null,
            "grid_template_columns": null,
            "grid_template_rows": null,
            "height": null,
            "justify_content": null,
            "justify_items": null,
            "left": null,
            "margin": null,
            "max_height": null,
            "max_width": null,
            "min_height": null,
            "min_width": null,
            "object_fit": null,
            "object_position": null,
            "order": null,
            "overflow": null,
            "overflow_x": null,
            "overflow_y": null,
            "padding": null,
            "right": null,
            "top": null,
            "visibility": null,
            "width": null
          }
        },
        "8393664236d34029b2dd841d432b9234": {
          "model_module": "@jupyter-widgets/controls",
          "model_name": "ProgressStyleModel",
          "model_module_version": "1.5.0",
          "state": {
            "_model_module": "@jupyter-widgets/controls",
            "_model_module_version": "1.5.0",
            "_model_name": "ProgressStyleModel",
            "_view_count": null,
            "_view_module": "@jupyter-widgets/base",
            "_view_module_version": "1.2.0",
            "_view_name": "StyleView",
            "bar_color": null,
            "description_width": ""
          }
        },
        "c3847befbafa48fc81e65c15f47fa114": {
          "model_module": "@jupyter-widgets/base",
          "model_name": "LayoutModel",
          "model_module_version": "1.2.0",
          "state": {
            "_model_module": "@jupyter-widgets/base",
            "_model_module_version": "1.2.0",
            "_model_name": "LayoutModel",
            "_view_count": null,
            "_view_module": "@jupyter-widgets/base",
            "_view_module_version": "1.2.0",
            "_view_name": "LayoutView",
            "align_content": null,
            "align_items": null,
            "align_self": null,
            "border": null,
            "bottom": null,
            "display": null,
            "flex": null,
            "flex_flow": null,
            "grid_area": null,
            "grid_auto_columns": null,
            "grid_auto_flow": null,
            "grid_auto_rows": null,
            "grid_column": null,
            "grid_gap": null,
            "grid_row": null,
            "grid_template_areas": null,
            "grid_template_columns": null,
            "grid_template_rows": null,
            "height": null,
            "justify_content": null,
            "justify_items": null,
            "left": null,
            "margin": null,
            "max_height": null,
            "max_width": null,
            "min_height": null,
            "min_width": null,
            "object_fit": null,
            "object_position": null,
            "order": null,
            "overflow": null,
            "overflow_x": null,
            "overflow_y": null,
            "padding": null,
            "right": null,
            "top": null,
            "visibility": null,
            "width": null
          }
        },
        "2d7df7be96634771b1990e2da064f112": {
          "model_module": "@jupyter-widgets/controls",
          "model_name": "DescriptionStyleModel",
          "model_module_version": "1.5.0",
          "state": {
            "_model_module": "@jupyter-widgets/controls",
            "_model_module_version": "1.5.0",
            "_model_name": "DescriptionStyleModel",
            "_view_count": null,
            "_view_module": "@jupyter-widgets/base",
            "_view_module_version": "1.2.0",
            "_view_name": "StyleView",
            "description_width": ""
          }
        },
        "205d9dd40a284b6b852a720fe3f0a9db": {
          "model_module": "@jupyter-widgets/controls",
          "model_name": "HBoxModel",
          "model_module_version": "1.5.0",
          "state": {
            "_dom_classes": [],
            "_model_module": "@jupyter-widgets/controls",
            "_model_module_version": "1.5.0",
            "_model_name": "HBoxModel",
            "_view_count": null,
            "_view_module": "@jupyter-widgets/controls",
            "_view_module_version": "1.5.0",
            "_view_name": "HBoxView",
            "box_style": "",
            "children": [
              "IPY_MODEL_f9af09fb40ac4262ba504280253fba7f",
              "IPY_MODEL_8be7597ec40e49d3a72e87932a7b3796",
              "IPY_MODEL_49ab5b4c65424870ab504f2901355649"
            ],
            "layout": "IPY_MODEL_c3236a1270c447e5afc42b6c1ea949ac"
          }
        },
        "f9af09fb40ac4262ba504280253fba7f": {
          "model_module": "@jupyter-widgets/controls",
          "model_name": "HTMLModel",
          "model_module_version": "1.5.0",
          "state": {
            "_dom_classes": [],
            "_model_module": "@jupyter-widgets/controls",
            "_model_module_version": "1.5.0",
            "_model_name": "HTMLModel",
            "_view_count": null,
            "_view_module": "@jupyter-widgets/controls",
            "_view_module_version": "1.5.0",
            "_view_name": "HTMLView",
            "description": "",
            "description_tooltip": null,
            "layout": "IPY_MODEL_21c44c74188a4b8f8659b7d44ac1a637",
            "placeholder": "​",
            "style": "IPY_MODEL_12068457bc9d42f59024be836b2f4b80",
            "value": "Downloading: 100%"
          }
        },
        "8be7597ec40e49d3a72e87932a7b3796": {
          "model_module": "@jupyter-widgets/controls",
          "model_name": "FloatProgressModel",
          "model_module_version": "1.5.0",
          "state": {
            "_dom_classes": [],
            "_model_module": "@jupyter-widgets/controls",
            "_model_module_version": "1.5.0",
            "_model_name": "FloatProgressModel",
            "_view_count": null,
            "_view_module": "@jupyter-widgets/controls",
            "_view_module_version": "1.5.0",
            "_view_name": "ProgressView",
            "bar_style": "success",
            "description": "",
            "description_tooltip": null,
            "layout": "IPY_MODEL_229f0f2d5a2a45339db51b8a1a3a7946",
            "max": 1142,
            "min": 0,
            "orientation": "horizontal",
            "style": "IPY_MODEL_07e80ed90ff542c7964b072356c44cd5",
            "value": 1142
          }
        },
        "49ab5b4c65424870ab504f2901355649": {
          "model_module": "@jupyter-widgets/controls",
          "model_name": "HTMLModel",
          "model_module_version": "1.5.0",
          "state": {
            "_dom_classes": [],
            "_model_module": "@jupyter-widgets/controls",
            "_model_module_version": "1.5.0",
            "_model_name": "HTMLModel",
            "_view_count": null,
            "_view_module": "@jupyter-widgets/controls",
            "_view_module_version": "1.5.0",
            "_view_name": "HTMLView",
            "description": "",
            "description_tooltip": null,
            "layout": "IPY_MODEL_414ea797378647aca8e30bd69d22cf9b",
            "placeholder": "​",
            "style": "IPY_MODEL_6bb85ea634084a64ab6551daa0ac19af",
            "value": " 1.14k/1.14k [00:00&lt;00:00, 15.8kB/s]"
          }
        },
        "c3236a1270c447e5afc42b6c1ea949ac": {
          "model_module": "@jupyter-widgets/base",
          "model_name": "LayoutModel",
          "model_module_version": "1.2.0",
          "state": {
            "_model_module": "@jupyter-widgets/base",
            "_model_module_version": "1.2.0",
            "_model_name": "LayoutModel",
            "_view_count": null,
            "_view_module": "@jupyter-widgets/base",
            "_view_module_version": "1.2.0",
            "_view_name": "LayoutView",
            "align_content": null,
            "align_items": null,
            "align_self": null,
            "border": null,
            "bottom": null,
            "display": null,
            "flex": null,
            "flex_flow": null,
            "grid_area": null,
            "grid_auto_columns": null,
            "grid_auto_flow": null,
            "grid_auto_rows": null,
            "grid_column": null,
            "grid_gap": null,
            "grid_row": null,
            "grid_template_areas": null,
            "grid_template_columns": null,
            "grid_template_rows": null,
            "height": null,
            "justify_content": null,
            "justify_items": null,
            "left": null,
            "margin": null,
            "max_height": null,
            "max_width": null,
            "min_height": null,
            "min_width": null,
            "object_fit": null,
            "object_position": null,
            "order": null,
            "overflow": null,
            "overflow_x": null,
            "overflow_y": null,
            "padding": null,
            "right": null,
            "top": null,
            "visibility": null,
            "width": null
          }
        },
        "21c44c74188a4b8f8659b7d44ac1a637": {
          "model_module": "@jupyter-widgets/base",
          "model_name": "LayoutModel",
          "model_module_version": "1.2.0",
          "state": {
            "_model_module": "@jupyter-widgets/base",
            "_model_module_version": "1.2.0",
            "_model_name": "LayoutModel",
            "_view_count": null,
            "_view_module": "@jupyter-widgets/base",
            "_view_module_version": "1.2.0",
            "_view_name": "LayoutView",
            "align_content": null,
            "align_items": null,
            "align_self": null,
            "border": null,
            "bottom": null,
            "display": null,
            "flex": null,
            "flex_flow": null,
            "grid_area": null,
            "grid_auto_columns": null,
            "grid_auto_flow": null,
            "grid_auto_rows": null,
            "grid_column": null,
            "grid_gap": null,
            "grid_row": null,
            "grid_template_areas": null,
            "grid_template_columns": null,
            "grid_template_rows": null,
            "height": null,
            "justify_content": null,
            "justify_items": null,
            "left": null,
            "margin": null,
            "max_height": null,
            "max_width": null,
            "min_height": null,
            "min_width": null,
            "object_fit": null,
            "object_position": null,
            "order": null,
            "overflow": null,
            "overflow_x": null,
            "overflow_y": null,
            "padding": null,
            "right": null,
            "top": null,
            "visibility": null,
            "width": null
          }
        },
        "12068457bc9d42f59024be836b2f4b80": {
          "model_module": "@jupyter-widgets/controls",
          "model_name": "DescriptionStyleModel",
          "model_module_version": "1.5.0",
          "state": {
            "_model_module": "@jupyter-widgets/controls",
            "_model_module_version": "1.5.0",
            "_model_name": "DescriptionStyleModel",
            "_view_count": null,
            "_view_module": "@jupyter-widgets/base",
            "_view_module_version": "1.2.0",
            "_view_name": "StyleView",
            "description_width": ""
          }
        },
        "229f0f2d5a2a45339db51b8a1a3a7946": {
          "model_module": "@jupyter-widgets/base",
          "model_name": "LayoutModel",
          "model_module_version": "1.2.0",
          "state": {
            "_model_module": "@jupyter-widgets/base",
            "_model_module_version": "1.2.0",
            "_model_name": "LayoutModel",
            "_view_count": null,
            "_view_module": "@jupyter-widgets/base",
            "_view_module_version": "1.2.0",
            "_view_name": "LayoutView",
            "align_content": null,
            "align_items": null,
            "align_self": null,
            "border": null,
            "bottom": null,
            "display": null,
            "flex": null,
            "flex_flow": null,
            "grid_area": null,
            "grid_auto_columns": null,
            "grid_auto_flow": null,
            "grid_auto_rows": null,
            "grid_column": null,
            "grid_gap": null,
            "grid_row": null,
            "grid_template_areas": null,
            "grid_template_columns": null,
            "grid_template_rows": null,
            "height": null,
            "justify_content": null,
            "justify_items": null,
            "left": null,
            "margin": null,
            "max_height": null,
            "max_width": null,
            "min_height": null,
            "min_width": null,
            "object_fit": null,
            "object_position": null,
            "order": null,
            "overflow": null,
            "overflow_x": null,
            "overflow_y": null,
            "padding": null,
            "right": null,
            "top": null,
            "visibility": null,
            "width": null
          }
        },
        "07e80ed90ff542c7964b072356c44cd5": {
          "model_module": "@jupyter-widgets/controls",
          "model_name": "ProgressStyleModel",
          "model_module_version": "1.5.0",
          "state": {
            "_model_module": "@jupyter-widgets/controls",
            "_model_module_version": "1.5.0",
            "_model_name": "ProgressStyleModel",
            "_view_count": null,
            "_view_module": "@jupyter-widgets/base",
            "_view_module_version": "1.2.0",
            "_view_name": "StyleView",
            "bar_color": null,
            "description_width": ""
          }
        },
        "414ea797378647aca8e30bd69d22cf9b": {
          "model_module": "@jupyter-widgets/base",
          "model_name": "LayoutModel",
          "model_module_version": "1.2.0",
          "state": {
            "_model_module": "@jupyter-widgets/base",
            "_model_module_version": "1.2.0",
            "_model_name": "LayoutModel",
            "_view_count": null,
            "_view_module": "@jupyter-widgets/base",
            "_view_module_version": "1.2.0",
            "_view_name": "LayoutView",
            "align_content": null,
            "align_items": null,
            "align_self": null,
            "border": null,
            "bottom": null,
            "display": null,
            "flex": null,
            "flex_flow": null,
            "grid_area": null,
            "grid_auto_columns": null,
            "grid_auto_flow": null,
            "grid_auto_rows": null,
            "grid_column": null,
            "grid_gap": null,
            "grid_row": null,
            "grid_template_areas": null,
            "grid_template_columns": null,
            "grid_template_rows": null,
            "height": null,
            "justify_content": null,
            "justify_items": null,
            "left": null,
            "margin": null,
            "max_height": null,
            "max_width": null,
            "min_height": null,
            "min_width": null,
            "object_fit": null,
            "object_position": null,
            "order": null,
            "overflow": null,
            "overflow_x": null,
            "overflow_y": null,
            "padding": null,
            "right": null,
            "top": null,
            "visibility": null,
            "width": null
          }
        },
        "6bb85ea634084a64ab6551daa0ac19af": {
          "model_module": "@jupyter-widgets/controls",
          "model_name": "DescriptionStyleModel",
          "model_module_version": "1.5.0",
          "state": {
            "_model_module": "@jupyter-widgets/controls",
            "_model_module_version": "1.5.0",
            "_model_name": "DescriptionStyleModel",
            "_view_count": null,
            "_view_module": "@jupyter-widgets/base",
            "_view_module_version": "1.2.0",
            "_view_name": "StyleView",
            "description_width": ""
          }
        },
        "17fa8d5388e64d9581aa3bce1ae50e88": {
          "model_module": "@jupyter-widgets/controls",
          "model_name": "HBoxModel",
          "model_module_version": "1.5.0",
          "state": {
            "_dom_classes": [],
            "_model_module": "@jupyter-widgets/controls",
            "_model_module_version": "1.5.0",
            "_model_name": "HBoxModel",
            "_view_count": null,
            "_view_module": "@jupyter-widgets/controls",
            "_view_module_version": "1.5.0",
            "_view_name": "HBoxView",
            "box_style": "",
            "children": [
              "IPY_MODEL_574ab06f91604f85b8e1f93ad27300c2",
              "IPY_MODEL_d7c55c7ece024c9f829f0b931287c26f",
              "IPY_MODEL_2acd58fbdd8747efa6659199058e6264"
            ],
            "layout": "IPY_MODEL_84bd63f2fe0d4fe386aaa8796006eea8"
          }
        },
        "574ab06f91604f85b8e1f93ad27300c2": {
          "model_module": "@jupyter-widgets/controls",
          "model_name": "HTMLModel",
          "model_module_version": "1.5.0",
          "state": {
            "_dom_classes": [],
            "_model_module": "@jupyter-widgets/controls",
            "_model_module_version": "1.5.0",
            "_model_name": "HTMLModel",
            "_view_count": null,
            "_view_module": "@jupyter-widgets/controls",
            "_view_module_version": "1.5.0",
            "_view_name": "HTMLView",
            "description": "",
            "description_tooltip": null,
            "layout": "IPY_MODEL_f5e71869121947b69cde6c2fe0c29192",
            "placeholder": "​",
            "style": "IPY_MODEL_b841a229b0474e4eaf05807716dec7e4",
            "value": "Downloading: 100%"
          }
        },
        "d7c55c7ece024c9f829f0b931287c26f": {
          "model_module": "@jupyter-widgets/controls",
          "model_name": "FloatProgressModel",
          "model_module_version": "1.5.0",
          "state": {
            "_dom_classes": [],
            "_model_module": "@jupyter-widgets/controls",
            "_model_module_version": "1.5.0",
            "_model_name": "FloatProgressModel",
            "_view_count": null,
            "_view_module": "@jupyter-widgets/controls",
            "_view_module_version": "1.5.0",
            "_view_name": "ProgressView",
            "bar_style": "success",
            "description": "",
            "description_tooltip": null,
            "layout": "IPY_MODEL_34b927df185b4219b87d15aba72306ba",
            "max": 2275437102,
            "min": 0,
            "orientation": "horizontal",
            "style": "IPY_MODEL_0a2f9ae0db9d4444a382e0eee7c82559",
            "value": 2275437102
          }
        },
        "2acd58fbdd8747efa6659199058e6264": {
          "model_module": "@jupyter-widgets/controls",
          "model_name": "HTMLModel",
          "model_module_version": "1.5.0",
          "state": {
            "_dom_classes": [],
            "_model_module": "@jupyter-widgets/controls",
            "_model_module_version": "1.5.0",
            "_model_name": "HTMLModel",
            "_view_count": null,
            "_view_module": "@jupyter-widgets/controls",
            "_view_module_version": "1.5.0",
            "_view_name": "HTMLView",
            "description": "",
            "description_tooltip": null,
            "layout": "IPY_MODEL_e9cf39217a724fae8143da3183a9bc44",
            "placeholder": "​",
            "style": "IPY_MODEL_a37a011d4240454d9eadcce748b826cb",
            "value": " 2.28G/2.28G [00:41&lt;00:00, 64.2MB/s]"
          }
        },
        "84bd63f2fe0d4fe386aaa8796006eea8": {
          "model_module": "@jupyter-widgets/base",
          "model_name": "LayoutModel",
          "model_module_version": "1.2.0",
          "state": {
            "_model_module": "@jupyter-widgets/base",
            "_model_module_version": "1.2.0",
            "_model_name": "LayoutModel",
            "_view_count": null,
            "_view_module": "@jupyter-widgets/base",
            "_view_module_version": "1.2.0",
            "_view_name": "LayoutView",
            "align_content": null,
            "align_items": null,
            "align_self": null,
            "border": null,
            "bottom": null,
            "display": null,
            "flex": null,
            "flex_flow": null,
            "grid_area": null,
            "grid_auto_columns": null,
            "grid_auto_flow": null,
            "grid_auto_rows": null,
            "grid_column": null,
            "grid_gap": null,
            "grid_row": null,
            "grid_template_areas": null,
            "grid_template_columns": null,
            "grid_template_rows": null,
            "height": null,
            "justify_content": null,
            "justify_items": null,
            "left": null,
            "margin": null,
            "max_height": null,
            "max_width": null,
            "min_height": null,
            "min_width": null,
            "object_fit": null,
            "object_position": null,
            "order": null,
            "overflow": null,
            "overflow_x": null,
            "overflow_y": null,
            "padding": null,
            "right": null,
            "top": null,
            "visibility": null,
            "width": null
          }
        },
        "f5e71869121947b69cde6c2fe0c29192": {
          "model_module": "@jupyter-widgets/base",
          "model_name": "LayoutModel",
          "model_module_version": "1.2.0",
          "state": {
            "_model_module": "@jupyter-widgets/base",
            "_model_module_version": "1.2.0",
            "_model_name": "LayoutModel",
            "_view_count": null,
            "_view_module": "@jupyter-widgets/base",
            "_view_module_version": "1.2.0",
            "_view_name": "LayoutView",
            "align_content": null,
            "align_items": null,
            "align_self": null,
            "border": null,
            "bottom": null,
            "display": null,
            "flex": null,
            "flex_flow": null,
            "grid_area": null,
            "grid_auto_columns": null,
            "grid_auto_flow": null,
            "grid_auto_rows": null,
            "grid_column": null,
            "grid_gap": null,
            "grid_row": null,
            "grid_template_areas": null,
            "grid_template_columns": null,
            "grid_template_rows": null,
            "height": null,
            "justify_content": null,
            "justify_items": null,
            "left": null,
            "margin": null,
            "max_height": null,
            "max_width": null,
            "min_height": null,
            "min_width": null,
            "object_fit": null,
            "object_position": null,
            "order": null,
            "overflow": null,
            "overflow_x": null,
            "overflow_y": null,
            "padding": null,
            "right": null,
            "top": null,
            "visibility": null,
            "width": null
          }
        },
        "b841a229b0474e4eaf05807716dec7e4": {
          "model_module": "@jupyter-widgets/controls",
          "model_name": "DescriptionStyleModel",
          "model_module_version": "1.5.0",
          "state": {
            "_model_module": "@jupyter-widgets/controls",
            "_model_module_version": "1.5.0",
            "_model_name": "DescriptionStyleModel",
            "_view_count": null,
            "_view_module": "@jupyter-widgets/base",
            "_view_module_version": "1.2.0",
            "_view_name": "StyleView",
            "description_width": ""
          }
        },
        "34b927df185b4219b87d15aba72306ba": {
          "model_module": "@jupyter-widgets/base",
          "model_name": "LayoutModel",
          "model_module_version": "1.2.0",
          "state": {
            "_model_module": "@jupyter-widgets/base",
            "_model_module_version": "1.2.0",
            "_model_name": "LayoutModel",
            "_view_count": null,
            "_view_module": "@jupyter-widgets/base",
            "_view_module_version": "1.2.0",
            "_view_name": "LayoutView",
            "align_content": null,
            "align_items": null,
            "align_self": null,
            "border": null,
            "bottom": null,
            "display": null,
            "flex": null,
            "flex_flow": null,
            "grid_area": null,
            "grid_auto_columns": null,
            "grid_auto_flow": null,
            "grid_auto_rows": null,
            "grid_column": null,
            "grid_gap": null,
            "grid_row": null,
            "grid_template_areas": null,
            "grid_template_columns": null,
            "grid_template_rows": null,
            "height": null,
            "justify_content": null,
            "justify_items": null,
            "left": null,
            "margin": null,
            "max_height": null,
            "max_width": null,
            "min_height": null,
            "min_width": null,
            "object_fit": null,
            "object_position": null,
            "order": null,
            "overflow": null,
            "overflow_x": null,
            "overflow_y": null,
            "padding": null,
            "right": null,
            "top": null,
            "visibility": null,
            "width": null
          }
        },
        "0a2f9ae0db9d4444a382e0eee7c82559": {
          "model_module": "@jupyter-widgets/controls",
          "model_name": "ProgressStyleModel",
          "model_module_version": "1.5.0",
          "state": {
            "_model_module": "@jupyter-widgets/controls",
            "_model_module_version": "1.5.0",
            "_model_name": "ProgressStyleModel",
            "_view_count": null,
            "_view_module": "@jupyter-widgets/base",
            "_view_module_version": "1.2.0",
            "_view_name": "StyleView",
            "bar_color": null,
            "description_width": ""
          }
        },
        "e9cf39217a724fae8143da3183a9bc44": {
          "model_module": "@jupyter-widgets/base",
          "model_name": "LayoutModel",
          "model_module_version": "1.2.0",
          "state": {
            "_model_module": "@jupyter-widgets/base",
            "_model_module_version": "1.2.0",
            "_model_name": "LayoutModel",
            "_view_count": null,
            "_view_module": "@jupyter-widgets/base",
            "_view_module_version": "1.2.0",
            "_view_name": "LayoutView",
            "align_content": null,
            "align_items": null,
            "align_self": null,
            "border": null,
            "bottom": null,
            "display": null,
            "flex": null,
            "flex_flow": null,
            "grid_area": null,
            "grid_auto_columns": null,
            "grid_auto_flow": null,
            "grid_auto_rows": null,
            "grid_column": null,
            "grid_gap": null,
            "grid_row": null,
            "grid_template_areas": null,
            "grid_template_columns": null,
            "grid_template_rows": null,
            "height": null,
            "justify_content": null,
            "justify_items": null,
            "left": null,
            "margin": null,
            "max_height": null,
            "max_width": null,
            "min_height": null,
            "min_width": null,
            "object_fit": null,
            "object_position": null,
            "order": null,
            "overflow": null,
            "overflow_x": null,
            "overflow_y": null,
            "padding": null,
            "right": null,
            "top": null,
            "visibility": null,
            "width": null
          }
        },
        "a37a011d4240454d9eadcce748b826cb": {
          "model_module": "@jupyter-widgets/controls",
          "model_name": "DescriptionStyleModel",
          "model_module_version": "1.5.0",
          "state": {
            "_model_module": "@jupyter-widgets/controls",
            "_model_module_version": "1.5.0",
            "_model_name": "DescriptionStyleModel",
            "_view_count": null,
            "_view_module": "@jupyter-widgets/base",
            "_view_module_version": "1.2.0",
            "_view_name": "StyleView",
            "description_width": ""
          }
        },
        "c4dfa99ce11f4c53ba2f80096f766ef2": {
          "model_module": "@jupyter-widgets/controls",
          "model_name": "HBoxModel",
          "model_module_version": "1.5.0",
          "state": {
            "_dom_classes": [],
            "_model_module": "@jupyter-widgets/controls",
            "_model_module_version": "1.5.0",
            "_model_name": "HBoxModel",
            "_view_count": null,
            "_view_module": "@jupyter-widgets/controls",
            "_view_module_version": "1.5.0",
            "_view_name": "HBoxView",
            "box_style": "",
            "children": [
              "IPY_MODEL_0fd1fc0324094bceb42f9d98c0362e65",
              "IPY_MODEL_6524a715739940e3a2f43712fc372c67",
              "IPY_MODEL_c7454418ce8040dfa87c6e075fe56760"
            ],
            "layout": "IPY_MODEL_75ca9ec948c14d8282a4ecf1b174fb0c"
          }
        },
        "0fd1fc0324094bceb42f9d98c0362e65": {
          "model_module": "@jupyter-widgets/controls",
          "model_name": "HTMLModel",
          "model_module_version": "1.5.0",
          "state": {
            "_dom_classes": [],
            "_model_module": "@jupyter-widgets/controls",
            "_model_module_version": "1.5.0",
            "_model_name": "HTMLModel",
            "_view_count": null,
            "_view_module": "@jupyter-widgets/controls",
            "_view_module_version": "1.5.0",
            "_view_name": "HTMLView",
            "description": "",
            "description_tooltip": null,
            "layout": "IPY_MODEL_fd8a3a1a40c34ba593b11e1afe0ade3d",
            "placeholder": "​",
            "style": "IPY_MODEL_3025f8442a8647a2aa03b921aa038084",
            "value": "Downloading: 100%"
          }
        },
        "6524a715739940e3a2f43712fc372c67": {
          "model_module": "@jupyter-widgets/controls",
          "model_name": "FloatProgressModel",
          "model_module_version": "1.5.0",
          "state": {
            "_dom_classes": [],
            "_model_module": "@jupyter-widgets/controls",
            "_model_module_version": "1.5.0",
            "_model_name": "FloatProgressModel",
            "_view_count": null,
            "_view_module": "@jupyter-widgets/controls",
            "_view_module_version": "1.5.0",
            "_view_name": "ProgressView",
            "bar_style": "success",
            "description": "",
            "description_tooltip": null,
            "layout": "IPY_MODEL_5b549c2e2ee7414ea81d90f9bbbfe973",
            "max": 25,
            "min": 0,
            "orientation": "horizontal",
            "style": "IPY_MODEL_1aea93844d0b4dc2b0ac936d8314615a",
            "value": 25
          }
        },
        "c7454418ce8040dfa87c6e075fe56760": {
          "model_module": "@jupyter-widgets/controls",
          "model_name": "HTMLModel",
          "model_module_version": "1.5.0",
          "state": {
            "_dom_classes": [],
            "_model_module": "@jupyter-widgets/controls",
            "_model_module_version": "1.5.0",
            "_model_name": "HTMLModel",
            "_view_count": null,
            "_view_module": "@jupyter-widgets/controls",
            "_view_module_version": "1.5.0",
            "_view_name": "HTMLView",
            "description": "",
            "description_tooltip": null,
            "layout": "IPY_MODEL_dcbb092e50f5468bb98babde4639373b",
            "placeholder": "​",
            "style": "IPY_MODEL_56dcaaa9fe9d470e80dfc3df4504be42",
            "value": " 25.0/25.0 [00:00&lt;00:00, 92.5B/s]"
          }
        },
        "75ca9ec948c14d8282a4ecf1b174fb0c": {
          "model_module": "@jupyter-widgets/base",
          "model_name": "LayoutModel",
          "model_module_version": "1.2.0",
          "state": {
            "_model_module": "@jupyter-widgets/base",
            "_model_module_version": "1.2.0",
            "_model_name": "LayoutModel",
            "_view_count": null,
            "_view_module": "@jupyter-widgets/base",
            "_view_module_version": "1.2.0",
            "_view_name": "LayoutView",
            "align_content": null,
            "align_items": null,
            "align_self": null,
            "border": null,
            "bottom": null,
            "display": null,
            "flex": null,
            "flex_flow": null,
            "grid_area": null,
            "grid_auto_columns": null,
            "grid_auto_flow": null,
            "grid_auto_rows": null,
            "grid_column": null,
            "grid_gap": null,
            "grid_row": null,
            "grid_template_areas": null,
            "grid_template_columns": null,
            "grid_template_rows": null,
            "height": null,
            "justify_content": null,
            "justify_items": null,
            "left": null,
            "margin": null,
            "max_height": null,
            "max_width": null,
            "min_height": null,
            "min_width": null,
            "object_fit": null,
            "object_position": null,
            "order": null,
            "overflow": null,
            "overflow_x": null,
            "overflow_y": null,
            "padding": null,
            "right": null,
            "top": null,
            "visibility": null,
            "width": null
          }
        },
        "fd8a3a1a40c34ba593b11e1afe0ade3d": {
          "model_module": "@jupyter-widgets/base",
          "model_name": "LayoutModel",
          "model_module_version": "1.2.0",
          "state": {
            "_model_module": "@jupyter-widgets/base",
            "_model_module_version": "1.2.0",
            "_model_name": "LayoutModel",
            "_view_count": null,
            "_view_module": "@jupyter-widgets/base",
            "_view_module_version": "1.2.0",
            "_view_name": "LayoutView",
            "align_content": null,
            "align_items": null,
            "align_self": null,
            "border": null,
            "bottom": null,
            "display": null,
            "flex": null,
            "flex_flow": null,
            "grid_area": null,
            "grid_auto_columns": null,
            "grid_auto_flow": null,
            "grid_auto_rows": null,
            "grid_column": null,
            "grid_gap": null,
            "grid_row": null,
            "grid_template_areas": null,
            "grid_template_columns": null,
            "grid_template_rows": null,
            "height": null,
            "justify_content": null,
            "justify_items": null,
            "left": null,
            "margin": null,
            "max_height": null,
            "max_width": null,
            "min_height": null,
            "min_width": null,
            "object_fit": null,
            "object_position": null,
            "order": null,
            "overflow": null,
            "overflow_x": null,
            "overflow_y": null,
            "padding": null,
            "right": null,
            "top": null,
            "visibility": null,
            "width": null
          }
        },
        "3025f8442a8647a2aa03b921aa038084": {
          "model_module": "@jupyter-widgets/controls",
          "model_name": "DescriptionStyleModel",
          "model_module_version": "1.5.0",
          "state": {
            "_model_module": "@jupyter-widgets/controls",
            "_model_module_version": "1.5.0",
            "_model_name": "DescriptionStyleModel",
            "_view_count": null,
            "_view_module": "@jupyter-widgets/base",
            "_view_module_version": "1.2.0",
            "_view_name": "StyleView",
            "description_width": ""
          }
        },
        "5b549c2e2ee7414ea81d90f9bbbfe973": {
          "model_module": "@jupyter-widgets/base",
          "model_name": "LayoutModel",
          "model_module_version": "1.2.0",
          "state": {
            "_model_module": "@jupyter-widgets/base",
            "_model_module_version": "1.2.0",
            "_model_name": "LayoutModel",
            "_view_count": null,
            "_view_module": "@jupyter-widgets/base",
            "_view_module_version": "1.2.0",
            "_view_name": "LayoutView",
            "align_content": null,
            "align_items": null,
            "align_self": null,
            "border": null,
            "bottom": null,
            "display": null,
            "flex": null,
            "flex_flow": null,
            "grid_area": null,
            "grid_auto_columns": null,
            "grid_auto_flow": null,
            "grid_auto_rows": null,
            "grid_column": null,
            "grid_gap": null,
            "grid_row": null,
            "grid_template_areas": null,
            "grid_template_columns": null,
            "grid_template_rows": null,
            "height": null,
            "justify_content": null,
            "justify_items": null,
            "left": null,
            "margin": null,
            "max_height": null,
            "max_width": null,
            "min_height": null,
            "min_width": null,
            "object_fit": null,
            "object_position": null,
            "order": null,
            "overflow": null,
            "overflow_x": null,
            "overflow_y": null,
            "padding": null,
            "right": null,
            "top": null,
            "visibility": null,
            "width": null
          }
        },
        "1aea93844d0b4dc2b0ac936d8314615a": {
          "model_module": "@jupyter-widgets/controls",
          "model_name": "ProgressStyleModel",
          "model_module_version": "1.5.0",
          "state": {
            "_model_module": "@jupyter-widgets/controls",
            "_model_module_version": "1.5.0",
            "_model_name": "ProgressStyleModel",
            "_view_count": null,
            "_view_module": "@jupyter-widgets/base",
            "_view_module_version": "1.2.0",
            "_view_name": "StyleView",
            "bar_color": null,
            "description_width": ""
          }
        },
        "dcbb092e50f5468bb98babde4639373b": {
          "model_module": "@jupyter-widgets/base",
          "model_name": "LayoutModel",
          "model_module_version": "1.2.0",
          "state": {
            "_model_module": "@jupyter-widgets/base",
            "_model_module_version": "1.2.0",
            "_model_name": "LayoutModel",
            "_view_count": null,
            "_view_module": "@jupyter-widgets/base",
            "_view_module_version": "1.2.0",
            "_view_name": "LayoutView",
            "align_content": null,
            "align_items": null,
            "align_self": null,
            "border": null,
            "bottom": null,
            "display": null,
            "flex": null,
            "flex_flow": null,
            "grid_area": null,
            "grid_auto_columns": null,
            "grid_auto_flow": null,
            "grid_auto_rows": null,
            "grid_column": null,
            "grid_gap": null,
            "grid_row": null,
            "grid_template_areas": null,
            "grid_template_columns": null,
            "grid_template_rows": null,
            "height": null,
            "justify_content": null,
            "justify_items": null,
            "left": null,
            "margin": null,
            "max_height": null,
            "max_width": null,
            "min_height": null,
            "min_width": null,
            "object_fit": null,
            "object_position": null,
            "order": null,
            "overflow": null,
            "overflow_x": null,
            "overflow_y": null,
            "padding": null,
            "right": null,
            "top": null,
            "visibility": null,
            "width": null
          }
        },
        "56dcaaa9fe9d470e80dfc3df4504be42": {
          "model_module": "@jupyter-widgets/controls",
          "model_name": "DescriptionStyleModel",
          "model_module_version": "1.5.0",
          "state": {
            "_model_module": "@jupyter-widgets/controls",
            "_model_module_version": "1.5.0",
            "_model_name": "DescriptionStyleModel",
            "_view_count": null,
            "_view_module": "@jupyter-widgets/base",
            "_view_module_version": "1.2.0",
            "_view_name": "StyleView",
            "description_width": ""
          }
        },
        "772995cbeffd44e099bcfc4da7c0570c": {
          "model_module": "@jupyter-widgets/controls",
          "model_name": "HBoxModel",
          "model_module_version": "1.5.0",
          "state": {
            "_dom_classes": [],
            "_model_module": "@jupyter-widgets/controls",
            "_model_module_version": "1.5.0",
            "_model_name": "HBoxModel",
            "_view_count": null,
            "_view_module": "@jupyter-widgets/controls",
            "_view_module_version": "1.5.0",
            "_view_name": "HBoxView",
            "box_style": "",
            "children": [
              "IPY_MODEL_51e91d96680e4f99a0a10d0bd174a301",
              "IPY_MODEL_b3d6cde45d4a4f49850321148fd0d915",
              "IPY_MODEL_60b517cb3f974810834bd8bf563ab073"
            ],
            "layout": "IPY_MODEL_0f5f3e16513a4dfda5e1e1ebe8bf196a"
          }
        },
        "51e91d96680e4f99a0a10d0bd174a301": {
          "model_module": "@jupyter-widgets/controls",
          "model_name": "HTMLModel",
          "model_module_version": "1.5.0",
          "state": {
            "_dom_classes": [],
            "_model_module": "@jupyter-widgets/controls",
            "_model_module_version": "1.5.0",
            "_model_name": "HTMLModel",
            "_view_count": null,
            "_view_module": "@jupyter-widgets/controls",
            "_view_module_version": "1.5.0",
            "_view_name": "HTMLView",
            "description": "",
            "description_tooltip": null,
            "layout": "IPY_MODEL_a51c986635c442cab196a0f29bb1ce8a",
            "placeholder": "​",
            "style": "IPY_MODEL_18070fd2d5f84388a745b0c54a1900ca",
            "value": "Downloading: 100%"
          }
        },
        "b3d6cde45d4a4f49850321148fd0d915": {
          "model_module": "@jupyter-widgets/controls",
          "model_name": "FloatProgressModel",
          "model_module_version": "1.5.0",
          "state": {
            "_dom_classes": [],
            "_model_module": "@jupyter-widgets/controls",
            "_model_module_version": "1.5.0",
            "_model_name": "FloatProgressModel",
            "_view_count": null,
            "_view_module": "@jupyter-widgets/controls",
            "_view_module_version": "1.5.0",
            "_view_name": "ProgressView",
            "bar_style": "success",
            "description": "",
            "description_tooltip": null,
            "layout": "IPY_MODEL_09059943e5c8462d8e8466d324f74f94",
            "max": 1208,
            "min": 0,
            "orientation": "horizontal",
            "style": "IPY_MODEL_1b5b26743f5a4b378061feb7922e2dc9",
            "value": 1208
          }
        },
        "60b517cb3f974810834bd8bf563ab073": {
          "model_module": "@jupyter-widgets/controls",
          "model_name": "HTMLModel",
          "model_module_version": "1.5.0",
          "state": {
            "_dom_classes": [],
            "_model_module": "@jupyter-widgets/controls",
            "_model_module_version": "1.5.0",
            "_model_name": "HTMLModel",
            "_view_count": null,
            "_view_module": "@jupyter-widgets/controls",
            "_view_module_version": "1.5.0",
            "_view_name": "HTMLView",
            "description": "",
            "description_tooltip": null,
            "layout": "IPY_MODEL_12c1228673324214ab5963125dff7fe3",
            "placeholder": "​",
            "style": "IPY_MODEL_fafeab2d0e804932af0e9e1729bdbba5",
            "value": " 1.21k/1.21k [00:00&lt;00:00, 41.7kB/s]"
          }
        },
        "0f5f3e16513a4dfda5e1e1ebe8bf196a": {
          "model_module": "@jupyter-widgets/base",
          "model_name": "LayoutModel",
          "model_module_version": "1.2.0",
          "state": {
            "_model_module": "@jupyter-widgets/base",
            "_model_module_version": "1.2.0",
            "_model_name": "LayoutModel",
            "_view_count": null,
            "_view_module": "@jupyter-widgets/base",
            "_view_module_version": "1.2.0",
            "_view_name": "LayoutView",
            "align_content": null,
            "align_items": null,
            "align_self": null,
            "border": null,
            "bottom": null,
            "display": null,
            "flex": null,
            "flex_flow": null,
            "grid_area": null,
            "grid_auto_columns": null,
            "grid_auto_flow": null,
            "grid_auto_rows": null,
            "grid_column": null,
            "grid_gap": null,
            "grid_row": null,
            "grid_template_areas": null,
            "grid_template_columns": null,
            "grid_template_rows": null,
            "height": null,
            "justify_content": null,
            "justify_items": null,
            "left": null,
            "margin": null,
            "max_height": null,
            "max_width": null,
            "min_height": null,
            "min_width": null,
            "object_fit": null,
            "object_position": null,
            "order": null,
            "overflow": null,
            "overflow_x": null,
            "overflow_y": null,
            "padding": null,
            "right": null,
            "top": null,
            "visibility": null,
            "width": null
          }
        },
        "a51c986635c442cab196a0f29bb1ce8a": {
          "model_module": "@jupyter-widgets/base",
          "model_name": "LayoutModel",
          "model_module_version": "1.2.0",
          "state": {
            "_model_module": "@jupyter-widgets/base",
            "_model_module_version": "1.2.0",
            "_model_name": "LayoutModel",
            "_view_count": null,
            "_view_module": "@jupyter-widgets/base",
            "_view_module_version": "1.2.0",
            "_view_name": "LayoutView",
            "align_content": null,
            "align_items": null,
            "align_self": null,
            "border": null,
            "bottom": null,
            "display": null,
            "flex": null,
            "flex_flow": null,
            "grid_area": null,
            "grid_auto_columns": null,
            "grid_auto_flow": null,
            "grid_auto_rows": null,
            "grid_column": null,
            "grid_gap": null,
            "grid_row": null,
            "grid_template_areas": null,
            "grid_template_columns": null,
            "grid_template_rows": null,
            "height": null,
            "justify_content": null,
            "justify_items": null,
            "left": null,
            "margin": null,
            "max_height": null,
            "max_width": null,
            "min_height": null,
            "min_width": null,
            "object_fit": null,
            "object_position": null,
            "order": null,
            "overflow": null,
            "overflow_x": null,
            "overflow_y": null,
            "padding": null,
            "right": null,
            "top": null,
            "visibility": null,
            "width": null
          }
        },
        "18070fd2d5f84388a745b0c54a1900ca": {
          "model_module": "@jupyter-widgets/controls",
          "model_name": "DescriptionStyleModel",
          "model_module_version": "1.5.0",
          "state": {
            "_model_module": "@jupyter-widgets/controls",
            "_model_module_version": "1.5.0",
            "_model_name": "DescriptionStyleModel",
            "_view_count": null,
            "_view_module": "@jupyter-widgets/base",
            "_view_module_version": "1.2.0",
            "_view_name": "StyleView",
            "description_width": ""
          }
        },
        "09059943e5c8462d8e8466d324f74f94": {
          "model_module": "@jupyter-widgets/base",
          "model_name": "LayoutModel",
          "model_module_version": "1.2.0",
          "state": {
            "_model_module": "@jupyter-widgets/base",
            "_model_module_version": "1.2.0",
            "_model_name": "LayoutModel",
            "_view_count": null,
            "_view_module": "@jupyter-widgets/base",
            "_view_module_version": "1.2.0",
            "_view_name": "LayoutView",
            "align_content": null,
            "align_items": null,
            "align_self": null,
            "border": null,
            "bottom": null,
            "display": null,
            "flex": null,
            "flex_flow": null,
            "grid_area": null,
            "grid_auto_columns": null,
            "grid_auto_flow": null,
            "grid_auto_rows": null,
            "grid_column": null,
            "grid_gap": null,
            "grid_row": null,
            "grid_template_areas": null,
            "grid_template_columns": null,
            "grid_template_rows": null,
            "height": null,
            "justify_content": null,
            "justify_items": null,
            "left": null,
            "margin": null,
            "max_height": null,
            "max_width": null,
            "min_height": null,
            "min_width": null,
            "object_fit": null,
            "object_position": null,
            "order": null,
            "overflow": null,
            "overflow_x": null,
            "overflow_y": null,
            "padding": null,
            "right": null,
            "top": null,
            "visibility": null,
            "width": null
          }
        },
        "1b5b26743f5a4b378061feb7922e2dc9": {
          "model_module": "@jupyter-widgets/controls",
          "model_name": "ProgressStyleModel",
          "model_module_version": "1.5.0",
          "state": {
            "_model_module": "@jupyter-widgets/controls",
            "_model_module_version": "1.5.0",
            "_model_name": "ProgressStyleModel",
            "_view_count": null,
            "_view_module": "@jupyter-widgets/base",
            "_view_module_version": "1.2.0",
            "_view_name": "StyleView",
            "bar_color": null,
            "description_width": ""
          }
        },
        "12c1228673324214ab5963125dff7fe3": {
          "model_module": "@jupyter-widgets/base",
          "model_name": "LayoutModel",
          "model_module_version": "1.2.0",
          "state": {
            "_model_module": "@jupyter-widgets/base",
            "_model_module_version": "1.2.0",
            "_model_name": "LayoutModel",
            "_view_count": null,
            "_view_module": "@jupyter-widgets/base",
            "_view_module_version": "1.2.0",
            "_view_name": "LayoutView",
            "align_content": null,
            "align_items": null,
            "align_self": null,
            "border": null,
            "bottom": null,
            "display": null,
            "flex": null,
            "flex_flow": null,
            "grid_area": null,
            "grid_auto_columns": null,
            "grid_auto_flow": null,
            "grid_auto_rows": null,
            "grid_column": null,
            "grid_gap": null,
            "grid_row": null,
            "grid_template_areas": null,
            "grid_template_columns": null,
            "grid_template_rows": null,
            "height": null,
            "justify_content": null,
            "justify_items": null,
            "left": null,
            "margin": null,
            "max_height": null,
            "max_width": null,
            "min_height": null,
            "min_width": null,
            "object_fit": null,
            "object_position": null,
            "order": null,
            "overflow": null,
            "overflow_x": null,
            "overflow_y": null,
            "padding": null,
            "right": null,
            "top": null,
            "visibility": null,
            "width": null
          }
        },
        "fafeab2d0e804932af0e9e1729bdbba5": {
          "model_module": "@jupyter-widgets/controls",
          "model_name": "DescriptionStyleModel",
          "model_module_version": "1.5.0",
          "state": {
            "_model_module": "@jupyter-widgets/controls",
            "_model_module_version": "1.5.0",
            "_model_name": "DescriptionStyleModel",
            "_view_count": null,
            "_view_module": "@jupyter-widgets/base",
            "_view_module_version": "1.2.0",
            "_view_name": "StyleView",
            "description_width": ""
          }
        },
        "b75530e473e547f8a20c0a5e1de221fd": {
          "model_module": "@jupyter-widgets/controls",
          "model_name": "HBoxModel",
          "model_module_version": "1.5.0",
          "state": {
            "_dom_classes": [],
            "_model_module": "@jupyter-widgets/controls",
            "_model_module_version": "1.5.0",
            "_model_name": "HBoxModel",
            "_view_count": null,
            "_view_module": "@jupyter-widgets/controls",
            "_view_module_version": "1.5.0",
            "_view_name": "HBoxView",
            "box_style": "",
            "children": [
              "IPY_MODEL_7220d43eada547a3b508fd6dae9a8e62",
              "IPY_MODEL_462cd78b07b54d329a98c87c7c1f025e",
              "IPY_MODEL_017cfe5225c54cecb4e8b3ade04fa1b3"
            ],
            "layout": "IPY_MODEL_dbafaa952bd840d48c4c072f4507bf2d"
          }
        },
        "7220d43eada547a3b508fd6dae9a8e62": {
          "model_module": "@jupyter-widgets/controls",
          "model_name": "HTMLModel",
          "model_module_version": "1.5.0",
          "state": {
            "_dom_classes": [],
            "_model_module": "@jupyter-widgets/controls",
            "_model_module_version": "1.5.0",
            "_model_name": "HTMLModel",
            "_view_count": null,
            "_view_module": "@jupyter-widgets/controls",
            "_view_module_version": "1.5.0",
            "_view_name": "HTMLView",
            "description": "",
            "description_tooltip": null,
            "layout": "IPY_MODEL_c6ed96d4f6dc4832abedf8c711fd3544",
            "placeholder": "​",
            "style": "IPY_MODEL_90281fabb5494591ac98e8556723e5b2",
            "value": "Downloading: 100%"
          }
        },
        "462cd78b07b54d329a98c87c7c1f025e": {
          "model_module": "@jupyter-widgets/controls",
          "model_name": "FloatProgressModel",
          "model_module_version": "1.5.0",
          "state": {
            "_dom_classes": [],
            "_model_module": "@jupyter-widgets/controls",
            "_model_module_version": "1.5.0",
            "_model_name": "FloatProgressModel",
            "_view_count": null,
            "_view_module": "@jupyter-widgets/controls",
            "_view_module_version": "1.5.0",
            "_view_name": "ProgressView",
            "bar_style": "success",
            "description": "",
            "description_tooltip": null,
            "layout": "IPY_MODEL_e5a586e42f8240ba9fa5cbf9b31f6550",
            "max": 791656,
            "min": 0,
            "orientation": "horizontal",
            "style": "IPY_MODEL_375032d973d446d8b1ba3fac41576b97",
            "value": 791656
          }
        },
        "017cfe5225c54cecb4e8b3ade04fa1b3": {
          "model_module": "@jupyter-widgets/controls",
          "model_name": "HTMLModel",
          "model_module_version": "1.5.0",
          "state": {
            "_dom_classes": [],
            "_model_module": "@jupyter-widgets/controls",
            "_model_module_version": "1.5.0",
            "_model_name": "HTMLModel",
            "_view_count": null,
            "_view_module": "@jupyter-widgets/controls",
            "_view_module_version": "1.5.0",
            "_view_name": "HTMLView",
            "description": "",
            "description_tooltip": null,
            "layout": "IPY_MODEL_6b6ffacf1a96479b9539e1a75fe633e3",
            "placeholder": "​",
            "style": "IPY_MODEL_bc465fe305b04d02b4d7476cba342d66",
            "value": " 792k/792k [00:00&lt;00:00, 881kB/s]"
          }
        },
        "dbafaa952bd840d48c4c072f4507bf2d": {
          "model_module": "@jupyter-widgets/base",
          "model_name": "LayoutModel",
          "model_module_version": "1.2.0",
          "state": {
            "_model_module": "@jupyter-widgets/base",
            "_model_module_version": "1.2.0",
            "_model_name": "LayoutModel",
            "_view_count": null,
            "_view_module": "@jupyter-widgets/base",
            "_view_module_version": "1.2.0",
            "_view_name": "LayoutView",
            "align_content": null,
            "align_items": null,
            "align_self": null,
            "border": null,
            "bottom": null,
            "display": null,
            "flex": null,
            "flex_flow": null,
            "grid_area": null,
            "grid_auto_columns": null,
            "grid_auto_flow": null,
            "grid_auto_rows": null,
            "grid_column": null,
            "grid_gap": null,
            "grid_row": null,
            "grid_template_areas": null,
            "grid_template_columns": null,
            "grid_template_rows": null,
            "height": null,
            "justify_content": null,
            "justify_items": null,
            "left": null,
            "margin": null,
            "max_height": null,
            "max_width": null,
            "min_height": null,
            "min_width": null,
            "object_fit": null,
            "object_position": null,
            "order": null,
            "overflow": null,
            "overflow_x": null,
            "overflow_y": null,
            "padding": null,
            "right": null,
            "top": null,
            "visibility": null,
            "width": null
          }
        },
        "c6ed96d4f6dc4832abedf8c711fd3544": {
          "model_module": "@jupyter-widgets/base",
          "model_name": "LayoutModel",
          "model_module_version": "1.2.0",
          "state": {
            "_model_module": "@jupyter-widgets/base",
            "_model_module_version": "1.2.0",
            "_model_name": "LayoutModel",
            "_view_count": null,
            "_view_module": "@jupyter-widgets/base",
            "_view_module_version": "1.2.0",
            "_view_name": "LayoutView",
            "align_content": null,
            "align_items": null,
            "align_self": null,
            "border": null,
            "bottom": null,
            "display": null,
            "flex": null,
            "flex_flow": null,
            "grid_area": null,
            "grid_auto_columns": null,
            "grid_auto_flow": null,
            "grid_auto_rows": null,
            "grid_column": null,
            "grid_gap": null,
            "grid_row": null,
            "grid_template_areas": null,
            "grid_template_columns": null,
            "grid_template_rows": null,
            "height": null,
            "justify_content": null,
            "justify_items": null,
            "left": null,
            "margin": null,
            "max_height": null,
            "max_width": null,
            "min_height": null,
            "min_width": null,
            "object_fit": null,
            "object_position": null,
            "order": null,
            "overflow": null,
            "overflow_x": null,
            "overflow_y": null,
            "padding": null,
            "right": null,
            "top": null,
            "visibility": null,
            "width": null
          }
        },
        "90281fabb5494591ac98e8556723e5b2": {
          "model_module": "@jupyter-widgets/controls",
          "model_name": "DescriptionStyleModel",
          "model_module_version": "1.5.0",
          "state": {
            "_model_module": "@jupyter-widgets/controls",
            "_model_module_version": "1.5.0",
            "_model_name": "DescriptionStyleModel",
            "_view_count": null,
            "_view_module": "@jupyter-widgets/base",
            "_view_module_version": "1.2.0",
            "_view_name": "StyleView",
            "description_width": ""
          }
        },
        "e5a586e42f8240ba9fa5cbf9b31f6550": {
          "model_module": "@jupyter-widgets/base",
          "model_name": "LayoutModel",
          "model_module_version": "1.2.0",
          "state": {
            "_model_module": "@jupyter-widgets/base",
            "_model_module_version": "1.2.0",
            "_model_name": "LayoutModel",
            "_view_count": null,
            "_view_module": "@jupyter-widgets/base",
            "_view_module_version": "1.2.0",
            "_view_name": "LayoutView",
            "align_content": null,
            "align_items": null,
            "align_self": null,
            "border": null,
            "bottom": null,
            "display": null,
            "flex": null,
            "flex_flow": null,
            "grid_area": null,
            "grid_auto_columns": null,
            "grid_auto_flow": null,
            "grid_auto_rows": null,
            "grid_column": null,
            "grid_gap": null,
            "grid_row": null,
            "grid_template_areas": null,
            "grid_template_columns": null,
            "grid_template_rows": null,
            "height": null,
            "justify_content": null,
            "justify_items": null,
            "left": null,
            "margin": null,
            "max_height": null,
            "max_width": null,
            "min_height": null,
            "min_width": null,
            "object_fit": null,
            "object_position": null,
            "order": null,
            "overflow": null,
            "overflow_x": null,
            "overflow_y": null,
            "padding": null,
            "right": null,
            "top": null,
            "visibility": null,
            "width": null
          }
        },
        "375032d973d446d8b1ba3fac41576b97": {
          "model_module": "@jupyter-widgets/controls",
          "model_name": "ProgressStyleModel",
          "model_module_version": "1.5.0",
          "state": {
            "_model_module": "@jupyter-widgets/controls",
            "_model_module_version": "1.5.0",
            "_model_name": "ProgressStyleModel",
            "_view_count": null,
            "_view_module": "@jupyter-widgets/base",
            "_view_module_version": "1.2.0",
            "_view_name": "StyleView",
            "bar_color": null,
            "description_width": ""
          }
        },
        "6b6ffacf1a96479b9539e1a75fe633e3": {
          "model_module": "@jupyter-widgets/base",
          "model_name": "LayoutModel",
          "model_module_version": "1.2.0",
          "state": {
            "_model_module": "@jupyter-widgets/base",
            "_model_module_version": "1.2.0",
            "_model_name": "LayoutModel",
            "_view_count": null,
            "_view_module": "@jupyter-widgets/base",
            "_view_module_version": "1.2.0",
            "_view_name": "LayoutView",
            "align_content": null,
            "align_items": null,
            "align_self": null,
            "border": null,
            "bottom": null,
            "display": null,
            "flex": null,
            "flex_flow": null,
            "grid_area": null,
            "grid_auto_columns": null,
            "grid_auto_flow": null,
            "grid_auto_rows": null,
            "grid_column": null,
            "grid_gap": null,
            "grid_row": null,
            "grid_template_areas": null,
            "grid_template_columns": null,
            "grid_template_rows": null,
            "height": null,
            "justify_content": null,
            "justify_items": null,
            "left": null,
            "margin": null,
            "max_height": null,
            "max_width": null,
            "min_height": null,
            "min_width": null,
            "object_fit": null,
            "object_position": null,
            "order": null,
            "overflow": null,
            "overflow_x": null,
            "overflow_y": null,
            "padding": null,
            "right": null,
            "top": null,
            "visibility": null,
            "width": null
          }
        },
        "bc465fe305b04d02b4d7476cba342d66": {
          "model_module": "@jupyter-widgets/controls",
          "model_name": "DescriptionStyleModel",
          "model_module_version": "1.5.0",
          "state": {
            "_model_module": "@jupyter-widgets/controls",
            "_model_module_version": "1.5.0",
            "_model_name": "DescriptionStyleModel",
            "_view_count": null,
            "_view_module": "@jupyter-widgets/base",
            "_view_module_version": "1.2.0",
            "_view_name": "StyleView",
            "description_width": ""
          }
        },
        "19ca104fdd2c4c41a6bb6dc5a9fcd29d": {
          "model_module": "@jupyter-widgets/controls",
          "model_name": "HBoxModel",
          "model_module_version": "1.5.0",
          "state": {
            "_dom_classes": [],
            "_model_module": "@jupyter-widgets/controls",
            "_model_module_version": "1.5.0",
            "_model_name": "HBoxModel",
            "_view_count": null,
            "_view_module": "@jupyter-widgets/controls",
            "_view_module_version": "1.5.0",
            "_view_name": "HBoxView",
            "box_style": "",
            "children": [
              "IPY_MODEL_5df332bf1b20432c94f20a95b742d4f5",
              "IPY_MODEL_2f45606ec83c463297ea825e8332162c",
              "IPY_MODEL_3b7eff0efb6a4f70a24ac90d4834d735"
            ],
            "layout": "IPY_MODEL_82f750e3a7b2424e90c9a18feb03582a"
          }
        },
        "5df332bf1b20432c94f20a95b742d4f5": {
          "model_module": "@jupyter-widgets/controls",
          "model_name": "HTMLModel",
          "model_module_version": "1.5.0",
          "state": {
            "_dom_classes": [],
            "_model_module": "@jupyter-widgets/controls",
            "_model_module_version": "1.5.0",
            "_model_name": "HTMLModel",
            "_view_count": null,
            "_view_module": "@jupyter-widgets/controls",
            "_view_module_version": "1.5.0",
            "_view_name": "HTMLView",
            "description": "",
            "description_tooltip": null,
            "layout": "IPY_MODEL_d6a1d1780ba94bc2be49cef7fa8f0b8d",
            "placeholder": "​",
            "style": "IPY_MODEL_cb13719a2a744ad992ce3db0239b551b",
            "value": "Downloading: 100%"
          }
        },
        "2f45606ec83c463297ea825e8332162c": {
          "model_module": "@jupyter-widgets/controls",
          "model_name": "FloatProgressModel",
          "model_module_version": "1.5.0",
          "state": {
            "_dom_classes": [],
            "_model_module": "@jupyter-widgets/controls",
            "_model_module_version": "1.5.0",
            "_model_name": "FloatProgressModel",
            "_view_count": null,
            "_view_module": "@jupyter-widgets/controls",
            "_view_module_version": "1.5.0",
            "_view_name": "ProgressView",
            "bar_style": "success",
            "description": "",
            "description_tooltip": null,
            "layout": "IPY_MODEL_67e1d8410d1343fdb61570cd45dfe086",
            "max": 1786,
            "min": 0,
            "orientation": "horizontal",
            "style": "IPY_MODEL_e304a5c12ec2434492a269078340d774",
            "value": 1786
          }
        },
        "3b7eff0efb6a4f70a24ac90d4834d735": {
          "model_module": "@jupyter-widgets/controls",
          "model_name": "HTMLModel",
          "model_module_version": "1.5.0",
          "state": {
            "_dom_classes": [],
            "_model_module": "@jupyter-widgets/controls",
            "_model_module_version": "1.5.0",
            "_model_name": "HTMLModel",
            "_view_count": null,
            "_view_module": "@jupyter-widgets/controls",
            "_view_module_version": "1.5.0",
            "_view_name": "HTMLView",
            "description": "",
            "description_tooltip": null,
            "layout": "IPY_MODEL_af8427bdf17046a8a0c272d1865adfbe",
            "placeholder": "​",
            "style": "IPY_MODEL_33d9eb38408542e9b95aed9a92dd6b20",
            "value": " 1.79k/1.79k [00:00&lt;00:00, 46.9kB/s]"
          }
        },
        "82f750e3a7b2424e90c9a18feb03582a": {
          "model_module": "@jupyter-widgets/base",
          "model_name": "LayoutModel",
          "model_module_version": "1.2.0",
          "state": {
            "_model_module": "@jupyter-widgets/base",
            "_model_module_version": "1.2.0",
            "_model_name": "LayoutModel",
            "_view_count": null,
            "_view_module": "@jupyter-widgets/base",
            "_view_module_version": "1.2.0",
            "_view_name": "LayoutView",
            "align_content": null,
            "align_items": null,
            "align_self": null,
            "border": null,
            "bottom": null,
            "display": null,
            "flex": null,
            "flex_flow": null,
            "grid_area": null,
            "grid_auto_columns": null,
            "grid_auto_flow": null,
            "grid_auto_rows": null,
            "grid_column": null,
            "grid_gap": null,
            "grid_row": null,
            "grid_template_areas": null,
            "grid_template_columns": null,
            "grid_template_rows": null,
            "height": null,
            "justify_content": null,
            "justify_items": null,
            "left": null,
            "margin": null,
            "max_height": null,
            "max_width": null,
            "min_height": null,
            "min_width": null,
            "object_fit": null,
            "object_position": null,
            "order": null,
            "overflow": null,
            "overflow_x": null,
            "overflow_y": null,
            "padding": null,
            "right": null,
            "top": null,
            "visibility": null,
            "width": null
          }
        },
        "d6a1d1780ba94bc2be49cef7fa8f0b8d": {
          "model_module": "@jupyter-widgets/base",
          "model_name": "LayoutModel",
          "model_module_version": "1.2.0",
          "state": {
            "_model_module": "@jupyter-widgets/base",
            "_model_module_version": "1.2.0",
            "_model_name": "LayoutModel",
            "_view_count": null,
            "_view_module": "@jupyter-widgets/base",
            "_view_module_version": "1.2.0",
            "_view_name": "LayoutView",
            "align_content": null,
            "align_items": null,
            "align_self": null,
            "border": null,
            "bottom": null,
            "display": null,
            "flex": null,
            "flex_flow": null,
            "grid_area": null,
            "grid_auto_columns": null,
            "grid_auto_flow": null,
            "grid_auto_rows": null,
            "grid_column": null,
            "grid_gap": null,
            "grid_row": null,
            "grid_template_areas": null,
            "grid_template_columns": null,
            "grid_template_rows": null,
            "height": null,
            "justify_content": null,
            "justify_items": null,
            "left": null,
            "margin": null,
            "max_height": null,
            "max_width": null,
            "min_height": null,
            "min_width": null,
            "object_fit": null,
            "object_position": null,
            "order": null,
            "overflow": null,
            "overflow_x": null,
            "overflow_y": null,
            "padding": null,
            "right": null,
            "top": null,
            "visibility": null,
            "width": null
          }
        },
        "cb13719a2a744ad992ce3db0239b551b": {
          "model_module": "@jupyter-widgets/controls",
          "model_name": "DescriptionStyleModel",
          "model_module_version": "1.5.0",
          "state": {
            "_model_module": "@jupyter-widgets/controls",
            "_model_module_version": "1.5.0",
            "_model_name": "DescriptionStyleModel",
            "_view_count": null,
            "_view_module": "@jupyter-widgets/base",
            "_view_module_version": "1.2.0",
            "_view_name": "StyleView",
            "description_width": ""
          }
        },
        "67e1d8410d1343fdb61570cd45dfe086": {
          "model_module": "@jupyter-widgets/base",
          "model_name": "LayoutModel",
          "model_module_version": "1.2.0",
          "state": {
            "_model_module": "@jupyter-widgets/base",
            "_model_module_version": "1.2.0",
            "_model_name": "LayoutModel",
            "_view_count": null,
            "_view_module": "@jupyter-widgets/base",
            "_view_module_version": "1.2.0",
            "_view_name": "LayoutView",
            "align_content": null,
            "align_items": null,
            "align_self": null,
            "border": null,
            "bottom": null,
            "display": null,
            "flex": null,
            "flex_flow": null,
            "grid_area": null,
            "grid_auto_columns": null,
            "grid_auto_flow": null,
            "grid_auto_rows": null,
            "grid_column": null,
            "grid_gap": null,
            "grid_row": null,
            "grid_template_areas": null,
            "grid_template_columns": null,
            "grid_template_rows": null,
            "height": null,
            "justify_content": null,
            "justify_items": null,
            "left": null,
            "margin": null,
            "max_height": null,
            "max_width": null,
            "min_height": null,
            "min_width": null,
            "object_fit": null,
            "object_position": null,
            "order": null,
            "overflow": null,
            "overflow_x": null,
            "overflow_y": null,
            "padding": null,
            "right": null,
            "top": null,
            "visibility": null,
            "width": null
          }
        },
        "e304a5c12ec2434492a269078340d774": {
          "model_module": "@jupyter-widgets/controls",
          "model_name": "ProgressStyleModel",
          "model_module_version": "1.5.0",
          "state": {
            "_model_module": "@jupyter-widgets/controls",
            "_model_module_version": "1.5.0",
            "_model_name": "ProgressStyleModel",
            "_view_count": null,
            "_view_module": "@jupyter-widgets/base",
            "_view_module_version": "1.2.0",
            "_view_name": "StyleView",
            "bar_color": null,
            "description_width": ""
          }
        },
        "af8427bdf17046a8a0c272d1865adfbe": {
          "model_module": "@jupyter-widgets/base",
          "model_name": "LayoutModel",
          "model_module_version": "1.2.0",
          "state": {
            "_model_module": "@jupyter-widgets/base",
            "_model_module_version": "1.2.0",
            "_model_name": "LayoutModel",
            "_view_count": null,
            "_view_module": "@jupyter-widgets/base",
            "_view_module_version": "1.2.0",
            "_view_name": "LayoutView",
            "align_content": null,
            "align_items": null,
            "align_self": null,
            "border": null,
            "bottom": null,
            "display": null,
            "flex": null,
            "flex_flow": null,
            "grid_area": null,
            "grid_auto_columns": null,
            "grid_auto_flow": null,
            "grid_auto_rows": null,
            "grid_column": null,
            "grid_gap": null,
            "grid_row": null,
            "grid_template_areas": null,
            "grid_template_columns": null,
            "grid_template_rows": null,
            "height": null,
            "justify_content": null,
            "justify_items": null,
            "left": null,
            "margin": null,
            "max_height": null,
            "max_width": null,
            "min_height": null,
            "min_width": null,
            "object_fit": null,
            "object_position": null,
            "order": null,
            "overflow": null,
            "overflow_x": null,
            "overflow_y": null,
            "padding": null,
            "right": null,
            "top": null,
            "visibility": null,
            "width": null
          }
        },
        "33d9eb38408542e9b95aed9a92dd6b20": {
          "model_module": "@jupyter-widgets/controls",
          "model_name": "DescriptionStyleModel",
          "model_module_version": "1.5.0",
          "state": {
            "_model_module": "@jupyter-widgets/controls",
            "_model_module_version": "1.5.0",
            "_model_name": "DescriptionStyleModel",
            "_view_count": null,
            "_view_module": "@jupyter-widgets/base",
            "_view_module_version": "1.2.0",
            "_view_name": "StyleView",
            "description_width": ""
          }
        },
        "b64ff65985b84f0497a9d75248bda19c": {
          "model_module": "@jupyter-widgets/controls",
          "model_name": "HBoxModel",
          "model_module_version": "1.5.0",
          "state": {
            "_dom_classes": [],
            "_model_module": "@jupyter-widgets/controls",
            "_model_module_version": "1.5.0",
            "_model_name": "HBoxModel",
            "_view_count": null,
            "_view_module": "@jupyter-widgets/controls",
            "_view_module_version": "1.5.0",
            "_view_name": "HBoxView",
            "box_style": "",
            "children": [
              "IPY_MODEL_39234d97a0f04e25a5b3950de1a153e4",
              "IPY_MODEL_8c084c0016514ed2bd7c4726a9a58be7",
              "IPY_MODEL_e622c42caf514547924852780fa75776"
            ],
            "layout": "IPY_MODEL_ab335f7aae064bf287450bd8f2dace04"
          }
        },
        "39234d97a0f04e25a5b3950de1a153e4": {
          "model_module": "@jupyter-widgets/controls",
          "model_name": "HTMLModel",
          "model_module_version": "1.5.0",
          "state": {
            "_dom_classes": [],
            "_model_module": "@jupyter-widgets/controls",
            "_model_module_version": "1.5.0",
            "_model_name": "HTMLModel",
            "_view_count": null,
            "_view_module": "@jupyter-widgets/controls",
            "_view_module_version": "1.5.0",
            "_view_name": "HTMLView",
            "description": "",
            "description_tooltip": null,
            "layout": "IPY_MODEL_d29b9cb9d10444d5a7cc12daba2d88f2",
            "placeholder": "​",
            "style": "IPY_MODEL_cffdca97966c486cb9e1d3355a94ca77",
            "value": "Downloading: 100%"
          }
        },
        "8c084c0016514ed2bd7c4726a9a58be7": {
          "model_module": "@jupyter-widgets/controls",
          "model_name": "FloatProgressModel",
          "model_module_version": "1.5.0",
          "state": {
            "_dom_classes": [],
            "_model_module": "@jupyter-widgets/controls",
            "_model_module_version": "1.5.0",
            "_model_name": "FloatProgressModel",
            "_view_count": null,
            "_view_module": "@jupyter-widgets/controls",
            "_view_module_version": "1.5.0",
            "_view_name": "ProgressView",
            "bar_style": "success",
            "description": "",
            "description_tooltip": null,
            "layout": "IPY_MODEL_6d3eeeb345bf49c9bf90773583768fad",
            "max": 891689022,
            "min": 0,
            "orientation": "horizontal",
            "style": "IPY_MODEL_c224208f1a0144d2ad5af36618233707",
            "value": 891689022
          }
        },
        "e622c42caf514547924852780fa75776": {
          "model_module": "@jupyter-widgets/controls",
          "model_name": "HTMLModel",
          "model_module_version": "1.5.0",
          "state": {
            "_dom_classes": [],
            "_model_module": "@jupyter-widgets/controls",
            "_model_module_version": "1.5.0",
            "_model_name": "HTMLModel",
            "_view_count": null,
            "_view_module": "@jupyter-widgets/controls",
            "_view_module_version": "1.5.0",
            "_view_name": "HTMLView",
            "description": "",
            "description_tooltip": null,
            "layout": "IPY_MODEL_9bdfa6ed0f684a9780cee5025d63b9dd",
            "placeholder": "​",
            "style": "IPY_MODEL_a522d8ed43324f79b3d8568384360fea",
            "value": " 892M/892M [00:25&lt;00:00, 42.3MB/s]"
          }
        },
        "ab335f7aae064bf287450bd8f2dace04": {
          "model_module": "@jupyter-widgets/base",
          "model_name": "LayoutModel",
          "model_module_version": "1.2.0",
          "state": {
            "_model_module": "@jupyter-widgets/base",
            "_model_module_version": "1.2.0",
            "_model_name": "LayoutModel",
            "_view_count": null,
            "_view_module": "@jupyter-widgets/base",
            "_view_module_version": "1.2.0",
            "_view_name": "LayoutView",
            "align_content": null,
            "align_items": null,
            "align_self": null,
            "border": null,
            "bottom": null,
            "display": null,
            "flex": null,
            "flex_flow": null,
            "grid_area": null,
            "grid_auto_columns": null,
            "grid_auto_flow": null,
            "grid_auto_rows": null,
            "grid_column": null,
            "grid_gap": null,
            "grid_row": null,
            "grid_template_areas": null,
            "grid_template_columns": null,
            "grid_template_rows": null,
            "height": null,
            "justify_content": null,
            "justify_items": null,
            "left": null,
            "margin": null,
            "max_height": null,
            "max_width": null,
            "min_height": null,
            "min_width": null,
            "object_fit": null,
            "object_position": null,
            "order": null,
            "overflow": null,
            "overflow_x": null,
            "overflow_y": null,
            "padding": null,
            "right": null,
            "top": null,
            "visibility": null,
            "width": null
          }
        },
        "d29b9cb9d10444d5a7cc12daba2d88f2": {
          "model_module": "@jupyter-widgets/base",
          "model_name": "LayoutModel",
          "model_module_version": "1.2.0",
          "state": {
            "_model_module": "@jupyter-widgets/base",
            "_model_module_version": "1.2.0",
            "_model_name": "LayoutModel",
            "_view_count": null,
            "_view_module": "@jupyter-widgets/base",
            "_view_module_version": "1.2.0",
            "_view_name": "LayoutView",
            "align_content": null,
            "align_items": null,
            "align_self": null,
            "border": null,
            "bottom": null,
            "display": null,
            "flex": null,
            "flex_flow": null,
            "grid_area": null,
            "grid_auto_columns": null,
            "grid_auto_flow": null,
            "grid_auto_rows": null,
            "grid_column": null,
            "grid_gap": null,
            "grid_row": null,
            "grid_template_areas": null,
            "grid_template_columns": null,
            "grid_template_rows": null,
            "height": null,
            "justify_content": null,
            "justify_items": null,
            "left": null,
            "margin": null,
            "max_height": null,
            "max_width": null,
            "min_height": null,
            "min_width": null,
            "object_fit": null,
            "object_position": null,
            "order": null,
            "overflow": null,
            "overflow_x": null,
            "overflow_y": null,
            "padding": null,
            "right": null,
            "top": null,
            "visibility": null,
            "width": null
          }
        },
        "cffdca97966c486cb9e1d3355a94ca77": {
          "model_module": "@jupyter-widgets/controls",
          "model_name": "DescriptionStyleModel",
          "model_module_version": "1.5.0",
          "state": {
            "_model_module": "@jupyter-widgets/controls",
            "_model_module_version": "1.5.0",
            "_model_name": "DescriptionStyleModel",
            "_view_count": null,
            "_view_module": "@jupyter-widgets/base",
            "_view_module_version": "1.2.0",
            "_view_name": "StyleView",
            "description_width": ""
          }
        },
        "6d3eeeb345bf49c9bf90773583768fad": {
          "model_module": "@jupyter-widgets/base",
          "model_name": "LayoutModel",
          "model_module_version": "1.2.0",
          "state": {
            "_model_module": "@jupyter-widgets/base",
            "_model_module_version": "1.2.0",
            "_model_name": "LayoutModel",
            "_view_count": null,
            "_view_module": "@jupyter-widgets/base",
            "_view_module_version": "1.2.0",
            "_view_name": "LayoutView",
            "align_content": null,
            "align_items": null,
            "align_self": null,
            "border": null,
            "bottom": null,
            "display": null,
            "flex": null,
            "flex_flow": null,
            "grid_area": null,
            "grid_auto_columns": null,
            "grid_auto_flow": null,
            "grid_auto_rows": null,
            "grid_column": null,
            "grid_gap": null,
            "grid_row": null,
            "grid_template_areas": null,
            "grid_template_columns": null,
            "grid_template_rows": null,
            "height": null,
            "justify_content": null,
            "justify_items": null,
            "left": null,
            "margin": null,
            "max_height": null,
            "max_width": null,
            "min_height": null,
            "min_width": null,
            "object_fit": null,
            "object_position": null,
            "order": null,
            "overflow": null,
            "overflow_x": null,
            "overflow_y": null,
            "padding": null,
            "right": null,
            "top": null,
            "visibility": null,
            "width": null
          }
        },
        "c224208f1a0144d2ad5af36618233707": {
          "model_module": "@jupyter-widgets/controls",
          "model_name": "ProgressStyleModel",
          "model_module_version": "1.5.0",
          "state": {
            "_model_module": "@jupyter-widgets/controls",
            "_model_module_version": "1.5.0",
            "_model_name": "ProgressStyleModel",
            "_view_count": null,
            "_view_module": "@jupyter-widgets/base",
            "_view_module_version": "1.2.0",
            "_view_name": "StyleView",
            "bar_color": null,
            "description_width": ""
          }
        },
        "9bdfa6ed0f684a9780cee5025d63b9dd": {
          "model_module": "@jupyter-widgets/base",
          "model_name": "LayoutModel",
          "model_module_version": "1.2.0",
          "state": {
            "_model_module": "@jupyter-widgets/base",
            "_model_module_version": "1.2.0",
            "_model_name": "LayoutModel",
            "_view_count": null,
            "_view_module": "@jupyter-widgets/base",
            "_view_module_version": "1.2.0",
            "_view_name": "LayoutView",
            "align_content": null,
            "align_items": null,
            "align_self": null,
            "border": null,
            "bottom": null,
            "display": null,
            "flex": null,
            "flex_flow": null,
            "grid_area": null,
            "grid_auto_columns": null,
            "grid_auto_flow": null,
            "grid_auto_rows": null,
            "grid_column": null,
            "grid_gap": null,
            "grid_row": null,
            "grid_template_areas": null,
            "grid_template_columns": null,
            "grid_template_rows": null,
            "height": null,
            "justify_content": null,
            "justify_items": null,
            "left": null,
            "margin": null,
            "max_height": null,
            "max_width": null,
            "min_height": null,
            "min_width": null,
            "object_fit": null,
            "object_position": null,
            "order": null,
            "overflow": null,
            "overflow_x": null,
            "overflow_y": null,
            "padding": null,
            "right": null,
            "top": null,
            "visibility": null,
            "width": null
          }
        },
        "a522d8ed43324f79b3d8568384360fea": {
          "model_module": "@jupyter-widgets/controls",
          "model_name": "DescriptionStyleModel",
          "model_module_version": "1.5.0",
          "state": {
            "_model_module": "@jupyter-widgets/controls",
            "_model_module_version": "1.5.0",
            "_model_name": "DescriptionStyleModel",
            "_view_count": null,
            "_view_module": "@jupyter-widgets/base",
            "_view_module_version": "1.2.0",
            "_view_name": "StyleView",
            "description_width": ""
          }
        }
      }
    },
    "gpuClass": "standard"
  },
  "cells": [
    {
      "cell_type": "code",
      "execution_count": null,
      "metadata": {
        "colab": {
          "base_uri": "https://localhost:8080/"
        },
        "id": "uX_Ozt2pPeHe",
        "outputId": "3f9bc6e3-02c1-4486-cc13-211585779565"
      },
      "outputs": [
        {
          "output_type": "stream",
          "name": "stdout",
          "text": [
            "Looking in indexes: https://pypi.org/simple, https://us-python.pkg.dev/colab-wheels/public/simple/\n",
            "Collecting transformers\n",
            "  Downloading transformers-4.25.1-py3-none-any.whl (5.8 MB)\n",
            "\u001b[2K     \u001b[90m━━━━━━━━━━━━━━━━━━━━━━━━━━━━━━━━━━━━━━━━\u001b[0m \u001b[32m5.8/5.8 MB\u001b[0m \u001b[31m53.2 MB/s\u001b[0m eta \u001b[36m0:00:00\u001b[0m\n",
            "\u001b[?25hCollecting sentencepiece\n",
            "  Downloading sentencepiece-0.1.97-cp38-cp38-manylinux_2_17_x86_64.manylinux2014_x86_64.whl (1.3 MB)\n",
            "\u001b[2K     \u001b[90m━━━━━━━━━━━━━━━━━━━━━━━━━━━━━━━━━━━━━━━━\u001b[0m \u001b[32m1.3/1.3 MB\u001b[0m \u001b[31m66.3 MB/s\u001b[0m eta \u001b[36m0:00:00\u001b[0m\n",
            "\u001b[?25hRequirement already satisfied: pyyaml>=5.1 in /usr/local/lib/python3.8/dist-packages (from transformers) (6.0)\n",
            "Requirement already satisfied: regex!=2019.12.17 in /usr/local/lib/python3.8/dist-packages (from transformers) (2022.6.2)\n",
            "Requirement already satisfied: filelock in /usr/local/lib/python3.8/dist-packages (from transformers) (3.8.2)\n",
            "Collecting tokenizers!=0.11.3,<0.14,>=0.11.1\n",
            "  Downloading tokenizers-0.13.2-cp38-cp38-manylinux_2_17_x86_64.manylinux2014_x86_64.whl (7.6 MB)\n",
            "\u001b[2K     \u001b[90m━━━━━━━━━━━━━━━━━━━━━━━━━━━━━━━━━━━━━━━━\u001b[0m \u001b[32m7.6/7.6 MB\u001b[0m \u001b[31m70.8 MB/s\u001b[0m eta \u001b[36m0:00:00\u001b[0m\n",
            "\u001b[?25hRequirement already satisfied: requests in /usr/local/lib/python3.8/dist-packages (from transformers) (2.25.1)\n",
            "Requirement already satisfied: numpy>=1.17 in /usr/local/lib/python3.8/dist-packages (from transformers) (1.21.6)\n",
            "Collecting huggingface-hub<1.0,>=0.10.0\n",
            "  Downloading huggingface_hub-0.11.1-py3-none-any.whl (182 kB)\n",
            "\u001b[2K     \u001b[90m━━━━━━━━━━━━━━━━━━━━━━━━━━━━━━━━━━━━━━\u001b[0m \u001b[32m182.4/182.4 KB\u001b[0m \u001b[31m17.8 MB/s\u001b[0m eta \u001b[36m0:00:00\u001b[0m\n",
            "\u001b[?25hRequirement already satisfied: packaging>=20.0 in /usr/local/lib/python3.8/dist-packages (from transformers) (21.3)\n",
            "Requirement already satisfied: tqdm>=4.27 in /usr/local/lib/python3.8/dist-packages (from transformers) (4.64.1)\n",
            "Requirement already satisfied: typing-extensions>=3.7.4.3 in /usr/local/lib/python3.8/dist-packages (from huggingface-hub<1.0,>=0.10.0->transformers) (4.4.0)\n",
            "Requirement already satisfied: pyparsing!=3.0.5,>=2.0.2 in /usr/local/lib/python3.8/dist-packages (from packaging>=20.0->transformers) (3.0.9)\n",
            "Requirement already satisfied: urllib3<1.27,>=1.21.1 in /usr/local/lib/python3.8/dist-packages (from requests->transformers) (1.24.3)\n",
            "Requirement already satisfied: idna<3,>=2.5 in /usr/local/lib/python3.8/dist-packages (from requests->transformers) (2.10)\n",
            "Requirement already satisfied: certifi>=2017.4.17 in /usr/local/lib/python3.8/dist-packages (from requests->transformers) (2022.12.7)\n",
            "Requirement already satisfied: chardet<5,>=3.0.2 in /usr/local/lib/python3.8/dist-packages (from requests->transformers) (4.0.0)\n",
            "Installing collected packages: tokenizers, sentencepiece, huggingface-hub, transformers\n",
            "Successfully installed huggingface-hub-0.11.1 sentencepiece-0.1.97 tokenizers-0.13.2 transformers-4.25.1\n"
          ]
        }
      ],
      "source": [
        "pip install --upgrade transformers sentencepiece"
      ]
    },
    {
      "cell_type": "markdown",
      "source": [
        "# ***PEGASUS KÜTÜPHANE***"
      ],
      "metadata": {
        "id": "S6F7sZ1ooPVn"
      }
    },
    {
      "cell_type": "code",
      "source": [
        "import torch\n",
        "from transformers import PegasusForConditionalGeneration, PegasusTokenizer\n",
        "modelPeg_name = 'tuner007/pegasus_paraphrase'\n",
        "torch_device = 'cuda' if torch.cuda.is_available() else 'cpu'\n",
        "tokenizerPeg = PegasusTokenizer.from_pretrained(modelPeg_name)\n",
        "modelPeg = PegasusForConditionalGeneration.from_pretrained(modelPeg_name).to(torch_device)"
      ],
      "metadata": {
        "id": "u6U8noYJPr8-",
        "colab": {
          "base_uri": "https://localhost:8080/",
          "height": 177,
          "referenced_widgets": [
            "148a19ee3cdc4ad2ba5a8aaafcda23ee",
            "00dfb01f794b4aafa90d8ce8f80a5bf8",
            "f85d27bb6c48414b9e7adbb67c6ad0c6",
            "8f956ac36ecb444abb4e31542a266ce8",
            "728f79c694494ab6bc0051ddd9ae82b5",
            "82eccc44332d4ad69b5995e1c3293d0a",
            "6a8451ac752649f4b1fd9f45e7641678",
            "5efc48b20dc644b7baf125f721909734",
            "35db4a6057a045cb9032641b1b1033c3",
            "1034d6a6b9824a4bb78651fcfa9e9f53",
            "ac2cd1a9e58f4146b445cbeedfc21fd4",
            "d4fd4dd003d34bf58870e72e066f8093",
            "92bf9f2d52b54020b9a5d0e4696a26e7",
            "eb40b98a07674034962499dd038ba7a0",
            "ea105554c2c84cf6a879ab37cf0d85b7",
            "dd70f64c2cbf4c358fe502cbfc6489fb",
            "bbb08878f8e44c7cb08e611a76f2a5b0",
            "adf8dd3b05fc4887ad62e55aa0818ca2",
            "130ac8c7d9ef4fdcbf55de96737dcab8",
            "4da7eff7970b4168a3c48a763369eccf",
            "2ab69a0ac17a41e98c6635afba5e4456",
            "fa7ef721073547f493bfbd6362623a3b",
            "426c7dbd586e4cfbaa40989893cbdf4f",
            "c31cbba407b747b7b6168360d24e77f2",
            "5c065b62080d46879f20e63262a18c28",
            "1bb0f2b006964ed0ae3a1c8116d39b1d",
            "fc30869a47164391bc3515e32268f731",
            "ce20a9ed3b64469e82cfa99b5d6e46d8",
            "27690f093a4143c191499becccb1563d",
            "04071ede5c9546a09480641d2d03ed37",
            "8393664236d34029b2dd841d432b9234",
            "c3847befbafa48fc81e65c15f47fa114",
            "2d7df7be96634771b1990e2da064f112",
            "205d9dd40a284b6b852a720fe3f0a9db",
            "f9af09fb40ac4262ba504280253fba7f",
            "8be7597ec40e49d3a72e87932a7b3796",
            "49ab5b4c65424870ab504f2901355649",
            "c3236a1270c447e5afc42b6c1ea949ac",
            "21c44c74188a4b8f8659b7d44ac1a637",
            "12068457bc9d42f59024be836b2f4b80",
            "229f0f2d5a2a45339db51b8a1a3a7946",
            "07e80ed90ff542c7964b072356c44cd5",
            "414ea797378647aca8e30bd69d22cf9b",
            "6bb85ea634084a64ab6551daa0ac19af",
            "17fa8d5388e64d9581aa3bce1ae50e88",
            "574ab06f91604f85b8e1f93ad27300c2",
            "d7c55c7ece024c9f829f0b931287c26f",
            "2acd58fbdd8747efa6659199058e6264",
            "84bd63f2fe0d4fe386aaa8796006eea8",
            "f5e71869121947b69cde6c2fe0c29192",
            "b841a229b0474e4eaf05807716dec7e4",
            "34b927df185b4219b87d15aba72306ba",
            "0a2f9ae0db9d4444a382e0eee7c82559",
            "e9cf39217a724fae8143da3183a9bc44",
            "a37a011d4240454d9eadcce748b826cb"
          ]
        },
        "outputId": "1256acbe-5746-41cc-e646-6bb50444051c"
      },
      "execution_count": null,
      "outputs": [
        {
          "output_type": "display_data",
          "data": {
            "text/plain": [
              "Downloading:   0%|          | 0.00/1.91M [00:00<?, ?B/s]"
            ],
            "application/vnd.jupyter.widget-view+json": {
              "version_major": 2,
              "version_minor": 0,
              "model_id": "148a19ee3cdc4ad2ba5a8aaafcda23ee"
            }
          },
          "metadata": {}
        },
        {
          "output_type": "display_data",
          "data": {
            "text/plain": [
              "Downloading:   0%|          | 0.00/65.0 [00:00<?, ?B/s]"
            ],
            "application/vnd.jupyter.widget-view+json": {
              "version_major": 2,
              "version_minor": 0,
              "model_id": "d4fd4dd003d34bf58870e72e066f8093"
            }
          },
          "metadata": {}
        },
        {
          "output_type": "display_data",
          "data": {
            "text/plain": [
              "Downloading:   0%|          | 0.00/86.0 [00:00<?, ?B/s]"
            ],
            "application/vnd.jupyter.widget-view+json": {
              "version_major": 2,
              "version_minor": 0,
              "model_id": "426c7dbd586e4cfbaa40989893cbdf4f"
            }
          },
          "metadata": {}
        },
        {
          "output_type": "display_data",
          "data": {
            "text/plain": [
              "Downloading:   0%|          | 0.00/1.14k [00:00<?, ?B/s]"
            ],
            "application/vnd.jupyter.widget-view+json": {
              "version_major": 2,
              "version_minor": 0,
              "model_id": "205d9dd40a284b6b852a720fe3f0a9db"
            }
          },
          "metadata": {}
        },
        {
          "output_type": "display_data",
          "data": {
            "text/plain": [
              "Downloading:   0%|          | 0.00/2.28G [00:00<?, ?B/s]"
            ],
            "application/vnd.jupyter.widget-view+json": {
              "version_major": 2,
              "version_minor": 0,
              "model_id": "17fa8d5388e64d9581aa3bce1ae50e88"
            }
          },
          "metadata": {}
        }
      ]
    },
    {
      "cell_type": "code",
      "source": [
        "def get_response(input_text, num_return_sequences):\n",
        "    batch = tokenizerPeg.prepare_seq2seq_batch([input_text],\n",
        "                                            truncation=True,\n",
        "                                            padding='longest',\n",
        "                                            return_tensors=\"pt\").to(torch_device)\n",
        "    translated = modelPeg.generate(**batch,\n",
        "                                num_beams=num_return_sequences,\n",
        "                                num_return_sequences=num_return_sequences,\n",
        "                                temperature=1.5).to(torch_device)\n",
        "    tgt_text = tokenizerPeg.batch_decode(translated, skip_special_tokens=True)\n",
        "    return tgt_text"
      ],
      "metadata": {
        "id": "RrBtpuV3Qjr9"
      },
      "execution_count": null,
      "outputs": []
    },
    {
      "cell_type": "code",
      "source": [
        "import pandas as pd\n",
        "import numpy as np\n",
        "from tensorflow import keras\n",
        "from tensorflow.keras.preprocessing.text import Tokenizer\n",
        "from tensorflow.keras.preprocessing.sequence import pad_sequences\n",
        "from tensorflow.keras.datasets import mnist\n",
        "from tensorflow.keras import Sequential\n",
        "from tensorflow.keras.layers import Dense\n",
        "from sklearn.model_selection import train_test_split\n",
        "from sklearn.feature_extraction.text import CountVectorizer\n",
        "from sklearn import metrics\n",
        "import matplotlib.pyplot as plt\n",
        "from sklearn.utils import shuffle\n",
        "from keras.utils import to_categorical\n",
        "from sklearn.preprocessing import OneHotEncoder\n",
        "import pickle\n"
      ],
      "metadata": {
        "id": "J_NeIHFLSz5-"
      },
      "execution_count": null,
      "outputs": []
    },
    {
      "cell_type": "code",
      "source": [
        "#df=pd.read_csv('/content/yelp_labelled.txt',names=['sentence', 'label'], sep='\\t')\n",
        "df=pd.read_csv('/content/Imdb.txt',names=['sentence', 'label'], sep=',')\n",
        "#df=pd.read_csv('/content/Finance.txt',names=['label', 'sentence'],encoding='latin-1')\n",
        "\n"
      ],
      "metadata": {
        "id": "PxddwkFYTLTd"
      },
      "execution_count": null,
      "outputs": []
    },
    {
      "cell_type": "code",
      "source": [
        "from bs4 import BeautifulSoup#2.Data set için\n",
        "import re\n",
        "def cleanText(text):\n",
        "    text = BeautifulSoup(text, \"lxml\").text\n",
        "    text = re.sub(r'\\|\\|\\|', r' ', text) \n",
        "    text = re.sub(r'http\\S+', r'<URL>', text)\n",
        "    text = text.lower()\n",
        "    text = text.replace('x', '')\n",
        "    return text\n",
        "df['sentence'] = df['sentence'].apply(cleanText)"
      ],
      "metadata": {
        "id": "wA-Z0Ic-nma8"
      },
      "execution_count": null,
      "outputs": []
    },
    {
      "cell_type": "code",
      "source": [
        "import re #1.Data Set için\n",
        "def sentence_rge(data):\n",
        "    data=re.sub('<[^>]*>','',data) # Html taglerini kaldırma\n",
        "    emoji=re.findall('(?::|;|=)(?:-)?(?:\\)|\\(|D|P)',data) #Emojileri bulma\n",
        "    data=re.sub('[\\W]+',' ',data.lower()) +\\\n",
        "                ' '.join(emoji).replace('-','')\n",
        "    return data\n",
        "\n",
        "df['sentence']=df['sentence'].apply(sentence_rge)"
      ],
      "metadata": {
        "id": "aUKiGSa9chxw"
      },
      "execution_count": null,
      "outputs": []
    },
    {
      "cell_type": "code",
      "source": [
        "from nltk.stem.porter import PorterStemmer\n",
        "\n",
        "porter=PorterStemmer()\n",
        "\n",
        "import nltk\n",
        "nltk.download('stopwords')\n",
        "from nltk.corpus import stopwords"
      ],
      "metadata": {
        "colab": {
          "base_uri": "https://localhost:8080/"
        },
        "id": "M-l5dP4Vco5j",
        "outputId": "d5be0509-5087-46c9-f367-bf15a31bdf67"
      },
      "execution_count": null,
      "outputs": [
        {
          "output_type": "stream",
          "name": "stderr",
          "text": [
            "[nltk_data] Downloading package stopwords to /root/nltk_data...\n",
            "[nltk_data]   Unzipping corpora/stopwords.zip.\n"
          ]
        }
      ]
    },
    {
      "cell_type": "code",
      "source": [
        "stop=stopwords.words('english')\n",
        "\n",
        "df['sentence'] = df['sentence'].apply(lambda x: ' '.join([word for word in x.split() if word not in (stop)]))"
      ],
      "metadata": {
        "id": "Ujae0WufcrEj"
      },
      "execution_count": null,
      "outputs": []
    },
    {
      "cell_type": "code",
      "source": [
        "sentiment  = {'positive': 0,'neutral': 1,'negative':2}#2.Dataset\n",
        "\n",
        "df.label = [sentiment[item] for item in df.label] \n",
        "print(df)"
      ],
      "metadata": {
        "id": "Q9XKRr-Kme0M",
        "colab": {
          "base_uri": "https://localhost:8080/"
        },
        "outputId": "368edaff-9107-47d0-b725-db35bb94b9ad"
      },
      "execution_count": null,
      "outputs": [
        {
          "output_type": "stream",
          "name": "stdout",
          "text": [
            "      label                                           sentence\n",
            "0         1  according gran , company plans move production...\n",
            "1         1  technopolis plans develop stages area less 100...\n",
            "2         2  international electronic industry company elco...\n",
            "3         0  new production plant company would increase ca...\n",
            "4         0  according company 's updated strategy years 20...\n",
            "...     ...                                                ...\n",
            "4841      2  london marketwatch -- share prices ended lower...\n",
            "4842      1  rinkuskiai 's beer sales fell 6.5 per cent 4.1...\n",
            "4843      2  operating profit fell eur 35.4 mn eur 68.8 mn ...\n",
            "4844      2  net sales paper segment decreased eur 221.6 mn...\n",
            "4845      2  sales finland decreased 10.5 % january , sales...\n",
            "\n",
            "[4846 rows x 2 columns]\n"
          ]
        }
      ]
    },
    {
      "cell_type": "code",
      "source": [
        "origdata = df.to_numpy()"
      ],
      "metadata": {
        "id": "Ys4Zg6RG_dWR"
      },
      "execution_count": null,
      "outputs": []
    },
    {
      "cell_type": "code",
      "source": [
        "origdataX=[]\n",
        "origdataY=[]\n",
        "\n",
        "for i in range(len(origdata)):\n",
        "  origdataX.append(origdata[i][0])\n",
        "  origdataY.append(origdata[i][1])\n"
      ],
      "metadata": {
        "id": "siqhVqw-_eUi"
      },
      "execution_count": null,
      "outputs": []
    },
    {
      "cell_type": "code",
      "source": [
        "origdataX = np.array(origdataX)\n",
        "origdataY = np.array(origdataY)"
      ],
      "metadata": {
        "id": "Okf0OPEN_dS8"
      },
      "execution_count": null,
      "outputs": []
    },
    {
      "cell_type": "code",
      "source": [
        "from collections import Counter\n",
        "\n",
        "def counter_word(text_col):\n",
        "    count = Counter()\n",
        "    for text in text_col:\n",
        "        for word in text.split():\n",
        "            count[word] += 1\n",
        "    return count\n",
        "\n",
        "\n",
        "counter = counter_word(origdataX[:3000])\n",
        "\n",
        "MAX_NB_WORDS = len(counter)\n",
        "MAX_SEQUENCE_LENGTH = 1000"
      ],
      "metadata": {
        "id": "9BftUrd_YO8e"
      },
      "execution_count": null,
      "outputs": []
    },
    {
      "cell_type": "code",
      "source": [
        "EMBEDDING_DIM = 100\n",
        "tokenizer = Tokenizer(num_words=MAX_NB_WORDS)\n",
        "tokenizer.fit_on_texts(origdataX[:3000])\n",
        "with open(\"tokenizer.pickle\", \"wb\") as handle:\n",
        "    pickle.dump(tokenizer, handle, protocol=pickle.HIGHEST_PROTOCOL)"
      ],
      "metadata": {
        "id": "RNEYpgcRYu2U"
      },
      "execution_count": null,
      "outputs": []
    },
    {
      "cell_type": "code",
      "source": [
        "X = tokenizer.texts_to_sequences(origdataX[:3000])\n",
        "X = pad_sequences(X, maxlen=MAX_SEQUENCE_LENGTH)\n",
        "print('Shape of data tensor:', X.shape)"
      ],
      "metadata": {
        "colab": {
          "base_uri": "https://localhost:8080/"
        },
        "id": "ml5HphyDZDhD",
        "outputId": "98670569-9d79-4b06-d888-35eddc57ad29"
      },
      "execution_count": null,
      "outputs": [
        {
          "output_type": "stream",
          "name": "stdout",
          "text": [
            "Shape of data tensor: (3000, 1000)\n"
          ]
        }
      ]
    },
    {
      "cell_type": "code",
      "source": [
        "from sklearn import preprocessing\n",
        "labelencoder = preprocessing.LabelEncoder()\n",
        "Y = labelencoder.fit_transform(origdataY[:3000])\n",
        "print('Shape of label tensor:', Y.shape)"
      ],
      "metadata": {
        "colab": {
          "base_uri": "https://localhost:8080/"
        },
        "id": "5GelkDI5ZLbV",
        "outputId": "d007ea29-75ec-4678-c4cb-c377b6be7787"
      },
      "execution_count": null,
      "outputs": [
        {
          "output_type": "stream",
          "name": "stdout",
          "text": [
            "Shape of label tensor: (3000,)\n"
          ]
        }
      ]
    },
    {
      "cell_type": "code",
      "source": [
        "Y = to_categorical(origdataY[:3000])#2.Data set için\n"
      ],
      "metadata": {
        "id": "XKJY0dHIth3P"
      },
      "execution_count": null,
      "outputs": []
    },
    {
      "cell_type": "code",
      "source": [
        "from sklearn.model_selection import train_test_split\n",
        "X_train, X_test, y_train, y_test = train_test_split(X,Y, test_size = 0.25, random_state = 0)\n",
        "print(X_train.shape,y_train.shape)\n",
        "print(X_test.shape,y_test.shape)"
      ],
      "metadata": {
        "colab": {
          "base_uri": "https://localhost:8080/"
        },
        "id": "kEgXC7voZT0H",
        "outputId": "0cd8cee5-adbc-4569-f825-91bafa18eae8"
      },
      "execution_count": null,
      "outputs": [
        {
          "output_type": "stream",
          "name": "stdout",
          "text": [
            "(2250, 1000) (2250,)\n",
            "(750, 1000) (750,)\n"
          ]
        }
      ]
    },
    {
      "cell_type": "code",
      "source": [
        "X_train.shape[0]"
      ],
      "metadata": {
        "colab": {
          "base_uri": "https://localhost:8080/"
        },
        "id": "ctwFAJGFch_Y",
        "outputId": "ae9069b1-c4f1-47ce-dba0-f5a8b2273e59"
      },
      "execution_count": null,
      "outputs": [
        {
          "output_type": "execute_result",
          "data": {
            "text/plain": [
              "750"
            ]
          },
          "metadata": {},
          "execution_count": 36
        }
      ]
    },
    {
      "cell_type": "code",
      "source": [
        "import tensorflow\n",
        "from tensorflow.keras import layers\n",
        "from keras.callbacks import EarlyStopping"
      ],
      "metadata": {
        "id": "dpM96TIip7v-"
      },
      "execution_count": null,
      "outputs": []
    },
    {
      "cell_type": "code",
      "source": [
        "\n",
        "model = tensorflow.keras.models.Sequential()\n",
        "model.add(layers.Embedding(MAX_NB_WORDS, EMBEDDING_DIM, input_length=X.shape[1]))\n",
        "model.add(layers.LSTM(32))\n",
        "model.add(layers.Dense(1, activation='sigmoid'))\n",
        "model.compile(loss='binary_crossentropy', optimizer='adam', metrics=['accuracy'])"
      ],
      "metadata": {
        "id": "kUrwuJjukCgh"
      },
      "execution_count": null,
      "outputs": []
    },
    {
      "cell_type": "code",
      "source": [
        "\n",
        "epochs = 10\n",
        "batch_size = 64"
      ],
      "metadata": {
        "id": "odawUbTLkFCb"
      },
      "execution_count": null,
      "outputs": []
    },
    {
      "cell_type": "code",
      "source": [
        "#history = model.fit(X_train, y_train, epochs=epochs, batch_size=batch_size,validation_data=(X_test, y_test))#Önce ve sonra için\n",
        "\n",
        "history111 = model.fit(X_train[:1125], y_train[:1125], epochs=epochs, batch_size=batch_size,validation_data=(X_test, y_test))#Önce ve sonra için"
      ],
      "metadata": {
        "id": "tD0VME9AZXXZ",
        "colab": {
          "base_uri": "https://localhost:8080/"
        },
        "outputId": "748b5088-26cf-4078-f025-6dd745d1eaf3"
      },
      "execution_count": null,
      "outputs": [
        {
          "output_type": "stream",
          "name": "stdout",
          "text": [
            "Epoch 1/10\n",
            "18/18 [==============================] - 17s 811ms/step - loss: 0.6898 - accuracy: 0.5342 - val_loss: 0.6832 - val_accuracy: 0.5440\n",
            "Epoch 2/10\n",
            "18/18 [==============================] - 14s 804ms/step - loss: 0.6203 - accuracy: 0.6987 - val_loss: 0.5905 - val_accuracy: 0.7427\n",
            "Epoch 3/10\n",
            "18/18 [==============================] - 17s 986ms/step - loss: 0.3464 - accuracy: 0.9591 - val_loss: 0.4509 - val_accuracy: 0.8160\n",
            "Epoch 4/10\n",
            "18/18 [==============================] - 13s 742ms/step - loss: 0.1429 - accuracy: 0.9947 - val_loss: 0.4343 - val_accuracy: 0.8107\n",
            "Epoch 5/10\n",
            "18/18 [==============================] - 15s 817ms/step - loss: 0.0698 - accuracy: 0.9982 - val_loss: 0.5775 - val_accuracy: 0.7627\n",
            "Epoch 6/10\n",
            "18/18 [==============================] - 14s 753ms/step - loss: 0.0339 - accuracy: 0.9991 - val_loss: 0.6225 - val_accuracy: 0.7427\n",
            "Epoch 7/10\n",
            "18/18 [==============================] - 14s 783ms/step - loss: 0.0209 - accuracy: 1.0000 - val_loss: 0.6204 - val_accuracy: 0.7867\n",
            "Epoch 8/10\n",
            "18/18 [==============================] - 14s 765ms/step - loss: 0.0156 - accuracy: 1.0000 - val_loss: 0.6167 - val_accuracy: 0.7907\n",
            "Epoch 9/10\n",
            "18/18 [==============================] - 15s 817ms/step - loss: 0.0124 - accuracy: 1.0000 - val_loss: 0.6894 - val_accuracy: 0.7813\n",
            "Epoch 10/10\n",
            "18/18 [==============================] - 14s 754ms/step - loss: 0.0090 - accuracy: 1.0000 - val_loss: 0.8448 - val_accuracy: 0.7493\n"
          ]
        }
      ]
    },
    {
      "cell_type": "markdown",
      "source": [
        "# ***PEGASUS YAPAY VERİ ÜRETME***"
      ],
      "metadata": {
        "id": "1fIq7WAg4gyP"
      }
    },
    {
      "cell_type": "code",
      "source": [
        "PegartfdataX=[]"
      ],
      "metadata": {
        "id": "SAXUd0iFWzH7"
      },
      "execution_count": null,
      "outputs": []
    },
    {
      "cell_type": "code",
      "source": [
        "PegartfdataY=[]"
      ],
      "metadata": {
        "id": "qkvr4HwFn3OO"
      },
      "execution_count": null,
      "outputs": []
    },
    {
      "cell_type": "code",
      "source": [
        "for j in range(X_train.shape[0]):\n",
        "  PegartfdataX.append(get_response(origdataX[j],1))\n",
        "  PegartfdataY.append(origdataY[j])#1 cümle için\n",
        "  PegartfdataY.append(origdataY[j])#2 cümle için\n",
        "  \n",
        "  print(j)\n",
        "\n",
        "\n"
      ],
      "metadata": {
        "id": "50lfrkyCVosT"
      },
      "execution_count": null,
      "outputs": []
    },
    {
      "cell_type": "code",
      "source": [
        "with open ('/content/PegartfdataX32.txt','r') as dosya:\n",
        "   for line in dosya.read().splitlines():\n",
        "     PegartfdataX.append(line)"
      ],
      "metadata": {
        "id": "9uXxYfitavfj"
      },
      "execution_count": null,
      "outputs": []
    },
    {
      "cell_type": "code",
      "source": [
        "with open('Pegartfdata32.txt', 'w') as f:\n",
        "    for item in PegartfdataX:\n",
        "        f.write(\"%s\\n\" % item)\n"
      ],
      "metadata": {
        "id": "ZtUmeXS_TAbT"
      },
      "execution_count": null,
      "outputs": []
    },
    {
      "cell_type": "code",
      "source": [
        "PegartfdataXtempp=PegartfdataX"
      ],
      "metadata": {
        "id": "sra0Uq_JR1XT"
      },
      "execution_count": null,
      "outputs": []
    },
    {
      "cell_type": "code",
      "source": [
        "PegartfdataX = np.array(PegartfdataX)\n",
        "PegartfdataY = np.array(PegartfdataY)"
      ],
      "metadata": {
        "id": "UFL439-TXCW9"
      },
      "execution_count": null,
      "outputs": []
    },
    {
      "cell_type": "code",
      "source": [
        "PegartfdataY.shape"
      ],
      "metadata": {
        "colab": {
          "base_uri": "https://localhost:8080/"
        },
        "id": "AH5hRYR0dZZU",
        "outputId": "12aad6b3-4d9d-460f-d0bc-cb1659adc63c"
      },
      "execution_count": null,
      "outputs": [
        {
          "output_type": "execute_result",
          "data": {
            "text/plain": [
              "(4500,)"
            ]
          },
          "metadata": {},
          "execution_count": 104
        }
      ]
    },
    {
      "cell_type": "code",
      "source": [
        "PegartfdataX=PegartfdataX.flatten()\n",
        "PegartfdataY=PegartfdataY.flatten()"
      ],
      "metadata": {
        "id": "drWLHWAxYSGL"
      },
      "execution_count": null,
      "outputs": []
    },
    {
      "cell_type": "code",
      "source": [
        "X_train2 = tokenizer.texts_to_sequences(PegartfdataX)\n",
        "X_train2 = pad_sequences(X_train2, maxlen=MAX_SEQUENCE_LENGTH)\n",
        "print('Shape of data tensor:', PegartfdataX.shape)"
      ],
      "metadata": {
        "colab": {
          "base_uri": "https://localhost:8080/"
        },
        "id": "9TbK0v9JjjMu",
        "outputId": "f1a4a902-955c-4a60-de4d-215c238dccfc"
      },
      "execution_count": null,
      "outputs": [
        {
          "output_type": "stream",
          "name": "stdout",
          "text": [
            "Shape of data tensor: (1500,)\n"
          ]
        }
      ]
    },
    {
      "cell_type": "code",
      "source": [
        "labelencoder = preprocessing.LabelEncoder()\n",
        "PegartfdataYtemp = labelencoder.fit_transform(PegartfdataY)\n",
        "print('Shape of label tensor:', PegartfdataYtemp.shape)"
      ],
      "metadata": {
        "colab": {
          "base_uri": "https://localhost:8080/"
        },
        "id": "ZTw-Ix3ojjGP",
        "outputId": "ea786afb-6905-4a8b-b1e6-db5fcb2b4ff8"
      },
      "execution_count": null,
      "outputs": [
        {
          "output_type": "stream",
          "name": "stdout",
          "text": [
            "Shape of label tensor: (1500,)\n"
          ]
        }
      ]
    },
    {
      "cell_type": "code",
      "source": [
        "PegartfdataYtemp = to_categorical(PegartfdataY)"
      ],
      "metadata": {
        "id": "mkOoxIfnrsDj"
      },
      "execution_count": null,
      "outputs": []
    },
    {
      "cell_type": "code",
      "source": [
        "dforgx = pd.DataFrame(origdataX[:750], columns = ['sentiment'])#\n",
        "dfartx = pd.DataFrame(PegartfdataX[:750], columns = ['sentiment'])"
      ],
      "metadata": {
        "id": "nt1KY_Kmy6de"
      },
      "execution_count": null,
      "outputs": []
    },
    {
      "cell_type": "code",
      "source": [
        "dfx=pd.concat([dforgx, dfartx], axis = 0)#"
      ],
      "metadata": {
        "id": "korJHxfJyFJS"
      },
      "execution_count": null,
      "outputs": []
    },
    {
      "cell_type": "code",
      "source": [
        "dforgy = pd.DataFrame(origdataY[:750], columns = ['label'])#\n",
        "dfarty = pd.DataFrame(PegartfdataY[:750], columns = ['label'])"
      ],
      "metadata": {
        "id": "8WobyFDCzStw"
      },
      "execution_count": null,
      "outputs": []
    },
    {
      "cell_type": "code",
      "source": [
        "dfy=pd.concat([dforgy, dforgy], axis = 0)#"
      ],
      "metadata": {
        "id": "ohiyvnClzcrq"
      },
      "execution_count": null,
      "outputs": []
    },
    {
      "cell_type": "code",
      "source": [
        "len(origdataY)"
      ],
      "metadata": {
        "colab": {
          "base_uri": "https://localhost:8080/"
        },
        "id": "tP2aebgDgXfj",
        "outputId": "4da17039-19aa-41f1-be9d-f105401c7e3c"
      },
      "execution_count": null,
      "outputs": [
        {
          "output_type": "execute_result",
          "data": {
            "text/plain": [
              "1000"
            ]
          },
          "metadata": {},
          "execution_count": 48
        }
      ]
    },
    {
      "cell_type": "code",
      "source": [
        "dfall=pd.concat([dfx, dfy], axis = 1)#"
      ],
      "metadata": {
        "id": "XTcljDlZzjje"
      },
      "execution_count": null,
      "outputs": []
    },
    {
      "cell_type": "code",
      "source": [
        "dfall = shuffle(dfall)#"
      ],
      "metadata": {
        "id": "mPBrUJ-mkA7W"
      },
      "execution_count": null,
      "outputs": []
    },
    {
      "cell_type": "code",
      "source": [
        "dfall = dfall.to_numpy()#"
      ],
      "metadata": {
        "id": "OD_4pguEkA4_"
      },
      "execution_count": null,
      "outputs": []
    },
    {
      "cell_type": "code",
      "source": [
        "shuffleX=[]#\n",
        "shuffleY=[]\n",
        "for i in range(len(dfall)):\n",
        "  shuffleX.append(dfall[i][0])\n",
        "  shuffleY.append(dfall[i][1])"
      ],
      "metadata": {
        "id": "iQXsH39QkA1s"
      },
      "execution_count": null,
      "outputs": []
    },
    {
      "cell_type": "code",
      "source": [
        "len(dfall)"
      ],
      "metadata": {
        "colab": {
          "base_uri": "https://localhost:8080/"
        },
        "id": "1mdZyOu0z5Ae",
        "outputId": "6e743672-bb59-4b5a-d797-43f347e151ef"
      },
      "execution_count": null,
      "outputs": [
        {
          "output_type": "execute_result",
          "data": {
            "text/plain": [
              "1500"
            ]
          },
          "metadata": {},
          "execution_count": 124
        }
      ]
    },
    {
      "cell_type": "code",
      "source": [
        "shuffleX = np.array(shuffleX)#\n",
        "shuffleY = np.array(shuffleY)"
      ],
      "metadata": {
        "id": "XbRFt5aIkL_L"
      },
      "execution_count": null,
      "outputs": []
    },
    {
      "cell_type": "code",
      "source": [
        "X_train2 = tokenizer.texts_to_sequences(shuffleX)\n",
        "X_train2 = pad_sequences(X_train2, maxlen=MAX_SEQUENCE_LENGTH)\n",
        "print('Shape of data tensor:', X_train2.shape)"
      ],
      "metadata": {
        "id": "riT3fsfKkOgb",
        "colab": {
          "base_uri": "https://localhost:8080/"
        },
        "outputId": "aa3b5028-6a34-4a81-fcb9-98343403fda0"
      },
      "execution_count": null,
      "outputs": [
        {
          "output_type": "stream",
          "name": "stdout",
          "text": [
            "Shape of data tensor: (1500, 1000)\n"
          ]
        }
      ]
    },
    {
      "cell_type": "code",
      "source": [
        "PegartfdataYtemp = to_categorical(shuffleY)#2.Data set için"
      ],
      "metadata": {
        "id": "bJ3DaQ16p_JY"
      },
      "execution_count": null,
      "outputs": []
    },
    {
      "cell_type": "code",
      "source": [
        "labelencoder = preprocessing.LabelEncoder()\n",
        "PegartfdataYtemp = labelencoder.fit_transform(shuffleY)\n",
        "print('Shape of label tensor:', PegartfdataYtemp.shape)"
      ],
      "metadata": {
        "id": "d43AfmCizXw5",
        "colab": {
          "base_uri": "https://localhost:8080/"
        },
        "outputId": "59b3817f-0229-4dab-cf8b-64328daa33f1"
      },
      "execution_count": null,
      "outputs": [
        {
          "output_type": "stream",
          "name": "stdout",
          "text": [
            "Shape of label tensor: (1500,)\n"
          ]
        }
      ]
    },
    {
      "cell_type": "code",
      "source": [
        "history12=model.fit(X_train2, PegartfdataYtemp, epochs=epochs, batch_size=batch_size,validation_data=(X_test, y_test))"
      ],
      "metadata": {
        "id": "8phjznlHlmA6",
        "colab": {
          "base_uri": "https://localhost:8080/"
        },
        "outputId": "cb8805a6-e426-467c-c897-89b81b92bef2"
      },
      "execution_count": null,
      "outputs": [
        {
          "output_type": "stream",
          "name": "stdout",
          "text": [
            "Epoch 1/10\n",
            "71/71 [==============================] - 53s 713ms/step - loss: 0.6870 - accuracy: 0.5373 - val_loss: 0.5848 - val_accuracy: 0.8120\n",
            "Epoch 2/10\n",
            "71/71 [==============================] - 51s 714ms/step - loss: 0.5482 - accuracy: 0.7553 - val_loss: 0.3614 - val_accuracy: 0.9053\n",
            "Epoch 3/10\n",
            "71/71 [==============================] - 49s 687ms/step - loss: 0.3813 - accuracy: 0.8407 - val_loss: 0.2816 - val_accuracy: 0.9027\n",
            "Epoch 4/10\n",
            "71/71 [==============================] - 49s 692ms/step - loss: 0.2870 - accuracy: 0.8811 - val_loss: 0.2715 - val_accuracy: 0.8933\n",
            "Epoch 5/10\n",
            "71/71 [==============================] - 53s 744ms/step - loss: 0.2195 - accuracy: 0.9138 - val_loss: 0.2365 - val_accuracy: 0.9040\n",
            "Epoch 6/10\n",
            "71/71 [==============================] - 49s 696ms/step - loss: 0.1759 - accuracy: 0.9271 - val_loss: 0.2342 - val_accuracy: 0.9080\n",
            "Epoch 7/10\n",
            "71/71 [==============================] - 51s 723ms/step - loss: 0.1374 - accuracy: 0.9440 - val_loss: 0.2345 - val_accuracy: 0.9147\n",
            "Epoch 8/10\n",
            "71/71 [==============================] - 51s 724ms/step - loss: 0.1147 - accuracy: 0.9516 - val_loss: 0.2100 - val_accuracy: 0.9147\n",
            "Epoch 9/10\n",
            "71/71 [==============================] - 50s 709ms/step - loss: 0.0983 - accuracy: 0.9611 - val_loss: 0.2527 - val_accuracy: 0.9107\n",
            "Epoch 10/10\n",
            "71/71 [==============================] - 53s 750ms/step - loss: 0.0866 - accuracy: 0.9649 - val_loss: 0.2658 - val_accuracy: 0.9000\n"
          ]
        }
      ]
    },
    {
      "cell_type": "code",
      "source": [
        "history11 = model.fit(X_train[1125:], y_train[1125:], epochs=epochs, batch_size=batch_size,validation_data=(X_test, y_test))"
      ],
      "metadata": {
        "colab": {
          "base_uri": "https://localhost:8080/"
        },
        "id": "ar75EkKRox_I",
        "outputId": "77114d9d-af1c-4d75-9a6a-2f53f5d40a40"
      },
      "execution_count": null,
      "outputs": [
        {
          "output_type": "stream",
          "name": "stdout",
          "text": [
            "Epoch 1/10\n",
            "18/18 [==============================] - 14s 795ms/step - loss: 0.3478 - accuracy: 0.9191 - val_loss: 0.2316 - val_accuracy: 0.9387\n",
            "Epoch 2/10\n",
            "18/18 [==============================] - 17s 952ms/step - loss: 0.0919 - accuracy: 0.9724 - val_loss: 0.3309 - val_accuracy: 0.9187\n",
            "Epoch 3/10\n",
            "18/18 [==============================] - 15s 812ms/step - loss: 0.2617 - accuracy: 0.9493 - val_loss: 0.4995 - val_accuracy: 0.8947\n",
            "Epoch 4/10\n",
            "18/18 [==============================] - 14s 812ms/step - loss: 0.2851 - accuracy: 0.9360 - val_loss: 0.2971 - val_accuracy: 0.9147\n",
            "Epoch 5/10\n",
            "18/18 [==============================] - 14s 787ms/step - loss: 0.0848 - accuracy: 0.9742 - val_loss: 0.2800 - val_accuracy: 0.9040\n",
            "Epoch 6/10\n",
            "18/18 [==============================] - 14s 758ms/step - loss: 0.0561 - accuracy: 0.9867 - val_loss: 0.2789 - val_accuracy: 0.9093\n",
            "Epoch 7/10\n",
            "18/18 [==============================] - 14s 766ms/step - loss: 0.0272 - accuracy: 0.9964 - val_loss: 0.2729 - val_accuracy: 0.9080\n",
            "Epoch 8/10\n",
            "18/18 [==============================] - 14s 786ms/step - loss: 0.0348 - accuracy: 0.9911 - val_loss: 0.2869 - val_accuracy: 0.9067\n",
            "Epoch 9/10\n",
            "18/18 [==============================] - 14s 771ms/step - loss: 0.0181 - accuracy: 0.9973 - val_loss: 0.3570 - val_accuracy: 0.8880\n",
            "Epoch 10/10\n",
            "18/18 [==============================] - 14s 790ms/step - loss: 0.0200 - accuracy: 0.9947 - val_loss: 0.3593 - val_accuracy: 0.8760\n"
          ]
        }
      ]
    },
    {
      "cell_type": "code",
      "source": [
        "history_dictorg = history.history # orjinal veri\n",
        "loss_values = history_dictorg['loss'] \n",
        "val_loss_values = history_dictorg['val_loss']\n",
        "accuracy = history_dictorg['accuracy']\n",
        "val_accuracy = history_dictorg['val_accuracy']\n",
        "\n",
        "\n",
        "\n",
        "history_dictorgyap = history2.history #önce orjinal sonra yapay \n",
        "loss_values2 = history_dictorgyap['loss']\n",
        "val_loss_values2 = history_dictorgyap['val_loss']\n",
        "accuracy2 = history_dictorgyap['accuracy']\n",
        "val_accuracy2 = history_dictorgyap['val_accuracy']"
      ],
      "metadata": {
        "id": "oBCzYazOiD2f"
      },
      "execution_count": null,
      "outputs": []
    },
    {
      "cell_type": "code",
      "source": [
        "history_dict6 = history6.history # Yapay veri\n",
        "loss_values6 = history_dict6['loss']\n",
        "val_loss_values6 = history_dict6['val_loss']\n",
        "accuracy6 = history_dict6['accuracy']\n",
        "val_accuracy6 = history_dict6['val_accuracy']\n",
        "\n",
        "history_dict7 = history7.history #Sonra Orjinal\n",
        "loss_values7 = history_dict7['loss']\n",
        "val_loss_values7 = history_dict7['val_loss']\n",
        "accuracy7 = history_dict7['accuracy']\n",
        "val_accuracy7 = history_dict7['val_accuracy']"
      ],
      "metadata": {
        "id": "N8s9Xq-7LVAP"
      },
      "execution_count": null,
      "outputs": []
    },
    {
      "cell_type": "code",
      "source": [
        "history_dict4 = history4.history #Orta\n",
        "loss_values4 = history_dict4['loss']\n",
        "val_loss_values4 = history_dict4['val_loss']\n",
        "accuracy4 = history_dict4['accuracy']\n",
        "val_accuracy4 = history_dict4['val_accuracy']"
      ],
      "metadata": {
        "id": "RhspaIuyNf1y"
      },
      "execution_count": null,
      "outputs": []
    },
    {
      "cell_type": "code",
      "source": [
        "history_dict5 = history5.history #Karışık\n",
        "loss_values5 = history_dict5['loss']\n",
        "val_loss_values5 = history_dict5['val_loss']\n",
        "accuracy5 = history_dict5['accuracy']\n",
        "val_accuracy5 = history_dict5['val_accuracy']"
      ],
      "metadata": {
        "id": "EkYz5jtCNgBw"
      },
      "execution_count": null,
      "outputs": []
    },
    {
      "cell_type": "code",
      "source": [],
      "metadata": {
        "id": "Ea3bLsSJbS81"
      },
      "execution_count": null,
      "outputs": []
    },
    {
      "cell_type": "code",
      "source": [
        "\n",
        "history_dict8 = history8.history #200  önce orjinal sonra yapay \n",
        "loss_values8 = history_dict8['loss']\n",
        "val_loss_values8 = history_dict8['val_loss']\n",
        "accuracy8 = history_dict8['accuracy']\n",
        "val_accuracy8 = history_dict8['val_accuracy']"
      ],
      "metadata": {
        "id": "uoyhdI6EaeBY"
      },
      "execution_count": null,
      "outputs": []
    },
    {
      "cell_type": "code",
      "source": [
        "history_dict9 = history9.history # 200 Yapay veri\n",
        "loss_values9 = history_dict9['loss']\n",
        "val_loss_values9 = history_dict9['val_loss']\n",
        "accuracy9 = history_dict9['accuracy']\n",
        "val_accuracy9 = history_dict9['val_accuracy']\n",
        "\n",
        "history_dict10 = history10.history #Sonra Orjinal\n",
        "loss_values10 = history_dict10['loss']\n",
        "val_loss_values10 = history_dict10['val_loss']\n",
        "accuracy10 = history_dict10['accuracy']\n",
        "val_accuracy10 = history_dict10['val_accuracy']"
      ],
      "metadata": {
        "id": "vFc1mGxradzI"
      },
      "execution_count": null,
      "outputs": []
    },
    {
      "cell_type": "code",
      "source": [
        "history_dict11 = history11.history #200Orta\n",
        "loss_values11 = history_dict11['loss']\n",
        "val_loss_values11 = history_dict11['val_loss']\n",
        "accuracy11 = history_dict11['accuracy']\n",
        "val_accuracy11 = history_dict11['val_accuracy']"
      ],
      "metadata": {
        "id": "BdTKnbZ_advv"
      },
      "execution_count": null,
      "outputs": []
    },
    {
      "cell_type": "code",
      "source": [
        "history_dict12 = history12.history #200Karışık\n",
        "loss_values12 = history_dict12['loss']\n",
        "val_loss_values12 = history_dict12['val_loss']\n",
        "accuracy12 = history_dict12['accuracy']\n",
        "val_accuracy12 = history_dict12['val_accuracy']"
      ],
      "metadata": {
        "id": "O_R6tnyeadtZ"
      },
      "execution_count": null,
      "outputs": []
    },
    {
      "cell_type": "code",
      "source": [
        "plt.plot(val_accuracy, label='Orjinal Veri',color=\"red\")\n",
        "plt.plot(val_accuracy2, label='Sonra(Yapay Veri Eklenmiş)',color=\"yellow\")\n",
        "\n",
        "#plt.plot(val_accuracy6, label='Yapay Veri',color=\"green\")\n",
        "plt.plot(val_accuracy7, label='Sonra(Orjinal)',color=\"black\")\n",
        "\n",
        "plt.plot(val_accuracy4, label='Orta',color=\"blue\")\n",
        "plt.plot(val_accuracy5, label='Karışık',color=\"orange\")\n",
        "\n",
        "plt.title('1.Veri Kümesi T5 %100 Yapay Veri')\n",
        "plt.legend(loc = 'best')\n",
        "plt.show()"
      ],
      "metadata": {
        "colab": {
          "base_uri": "https://localhost:8080/",
          "height": 281
        },
        "id": "1RRtBEFyXtpd",
        "outputId": "20244fcb-9390-4fe5-f181-1d97db9adf0d"
      },
      "execution_count": null,
      "outputs": [
        {
          "output_type": "display_data",
          "data": {
            "text/plain": [
              "<Figure size 432x288 with 1 Axes>"
            ],
            "image/png": "[encoded data removed]"
          },
          "metadata": {
            "needs_background": "light"
          }
        }
      ]
    },
    {
      "cell_type": "code",
      "source": [
        "plt.plot(val_accuracy, label='Orjinal Veri',color=\"red\")\n",
        "plt.plot(val_accuracy8, label='Sonra(Yapay Veri Eklenmiş)',color=\"yellow\")\n",
        "\n",
        "#plt.plot(val_accuracy9, label=' Yapay Veri',color=\"green\")\n",
        "plt.plot(val_accuracy10, label='Sonra(Orjinal)',color=\"black\")\n",
        "\n",
        "plt.plot(val_accuracy11, label='Orta',color=\"blue\")\n",
        "plt.plot(val_accuracy12, label='Karışık',color=\"orange\")\n",
        "\n",
        "plt.title('1.Veri Kümesi T5 %200 Yapay Veri')\n",
        "plt.legend(loc = 'best')\n",
        "plt.show()"
      ],
      "metadata": {
        "colab": {
          "base_uri": "https://localhost:8080/",
          "height": 281
        },
        "id": "AwLZrvWDWLNq",
        "outputId": "0dc24693-1348-4252-aa04-0410ebef1f1e"
      },
      "execution_count": null,
      "outputs": [
        {
          "output_type": "display_data",
          "data": {
            "text/plain": [
              "<Figure size 432x288 with 1 Axes>"
            ],
            "image/png": "[encoded data removed]"
          },
          "metadata": {
            "needs_background": "light"
          }
        }
      ]
    },
    {
      "cell_type": "code",
      "source": [
        "plt.plot(val_accuracy, label='Orjinal Veri',color=\"red\")\n",
        "plt.plot(val_accuracy2, label='Sonra(Yapay Veri Eklenmiş)',color=\"yellow\")\n",
        "\n",
        "#plt.plot(val_accuracy6, label='Yapay Veri',color=\"green\")\n",
        "plt.plot(val_accuracy7, label='Sonra(Orjinal)',color=\"black\")\n",
        "\n",
        "plt.plot(val_accuracy4, label='Orta',color=\"blue\")\n",
        "plt.plot(val_accuracy5, label='Karışık',color=\"orange\")\n",
        "\n",
        "\n",
        "plt.plot(val_accuracy8, label='Sonra(%200 Yapay Veri Eklenmiş)',color=\"purple\")\n",
        "\n",
        "#plt.plot(val_accuracy9, label='%200 Yapay Veri',color=\"indigo\")\n",
        "plt.plot(val_accuracy10, label='%200 Sonra(Orjinal)',color=\"springgreen\")\n",
        "\n",
        "plt.plot(val_accuracy11, label='%200 Orta',color=\"darkgoldenrod\")\n",
        "plt.plot(val_accuracy12, label='%200 Karışık',color=\"deepskyblue\")\n",
        "\n",
        "\n",
        "plt.title('1.Veri Kümesi T5 Yapay Veri')\n",
        "plt.legend(loc = 'best')\n",
        "plt.show()\n"
      ],
      "metadata": {
        "colab": {
          "base_uri": "https://localhost:8080/",
          "height": 281
        },
        "id": "9JVigQmtb9Ya",
        "outputId": "de158528-a8ec-4775-db55-ad053f22c914"
      },
      "execution_count": null,
      "outputs": [
        {
          "output_type": "display_data",
          "data": {
            "text/plain": [
              "<Figure size 432x288 with 1 Axes>"
            ],
            "image/png": "[encoded data removed]"
          },
          "metadata": {
            "needs_background": "light"
          }
        }
      ]
    },
    {
      "cell_type": "markdown",
      "source": [
        "# ***T5 KÜTÜPHANE***"
      ],
      "metadata": {
        "id": "Z8Qyfdf7rROr"
      }
    },
    {
      "cell_type": "code",
      "source": [
        "from transformers import AutoTokenizer, AutoModelForSeq2SeqLM\n",
        "\n",
        "tokenizerTf = AutoTokenizer.from_pretrained(\"Vamsi/T5_Paraphrase_Paws\")  \n",
        "modelTf = AutoModelForSeq2SeqLM.from_pretrained(\"Vamsi/T5_Paraphrase_Paws\")"
      ],
      "metadata": {
        "colab": {
          "base_uri": "https://localhost:8080/",
          "height": 177,
          "referenced_widgets": [
            "c4dfa99ce11f4c53ba2f80096f766ef2",
            "0fd1fc0324094bceb42f9d98c0362e65",
            "6524a715739940e3a2f43712fc372c67",
            "c7454418ce8040dfa87c6e075fe56760",
            "75ca9ec948c14d8282a4ecf1b174fb0c",
            "fd8a3a1a40c34ba593b11e1afe0ade3d",
            "3025f8442a8647a2aa03b921aa038084",
            "5b549c2e2ee7414ea81d90f9bbbfe973",
            "1aea93844d0b4dc2b0ac936d8314615a",
            "dcbb092e50f5468bb98babde4639373b",
            "56dcaaa9fe9d470e80dfc3df4504be42",
            "772995cbeffd44e099bcfc4da7c0570c",
            "51e91d96680e4f99a0a10d0bd174a301",
            "b3d6cde45d4a4f49850321148fd0d915",
            "60b517cb3f974810834bd8bf563ab073",
            "0f5f3e16513a4dfda5e1e1ebe8bf196a",
            "a51c986635c442cab196a0f29bb1ce8a",
            "18070fd2d5f84388a745b0c54a1900ca",
            "09059943e5c8462d8e8466d324f74f94",
            "1b5b26743f5a4b378061feb7922e2dc9",
            "12c1228673324214ab5963125dff7fe3",
            "fafeab2d0e804932af0e9e1729bdbba5",
            "b75530e473e547f8a20c0a5e1de221fd",
            "7220d43eada547a3b508fd6dae9a8e62",
            "462cd78b07b54d329a98c87c7c1f025e",
            "017cfe5225c54cecb4e8b3ade04fa1b3",
            "dbafaa952bd840d48c4c072f4507bf2d",
            "c6ed96d4f6dc4832abedf8c711fd3544",
            "90281fabb5494591ac98e8556723e5b2",
            "e5a586e42f8240ba9fa5cbf9b31f6550",
            "375032d973d446d8b1ba3fac41576b97",
            "6b6ffacf1a96479b9539e1a75fe633e3",
            "bc465fe305b04d02b4d7476cba342d66",
            "19ca104fdd2c4c41a6bb6dc5a9fcd29d",
            "5df332bf1b20432c94f20a95b742d4f5",
            "2f45606ec83c463297ea825e8332162c",
            "3b7eff0efb6a4f70a24ac90d4834d735",
            "82f750e3a7b2424e90c9a18feb03582a",
            "d6a1d1780ba94bc2be49cef7fa8f0b8d",
            "cb13719a2a744ad992ce3db0239b551b",
            "67e1d8410d1343fdb61570cd45dfe086",
            "e304a5c12ec2434492a269078340d774",
            "af8427bdf17046a8a0c272d1865adfbe",
            "33d9eb38408542e9b95aed9a92dd6b20",
            "b64ff65985b84f0497a9d75248bda19c",
            "39234d97a0f04e25a5b3950de1a153e4",
            "8c084c0016514ed2bd7c4726a9a58be7",
            "e622c42caf514547924852780fa75776",
            "ab335f7aae064bf287450bd8f2dace04",
            "d29b9cb9d10444d5a7cc12daba2d88f2",
            "cffdca97966c486cb9e1d3355a94ca77",
            "6d3eeeb345bf49c9bf90773583768fad",
            "c224208f1a0144d2ad5af36618233707",
            "9bdfa6ed0f684a9780cee5025d63b9dd",
            "a522d8ed43324f79b3d8568384360fea"
          ]
        },
        "id": "DDX4PlQQrWSw",
        "outputId": "e3aae27f-5cb7-44ae-c5a3-4455812e8b71"
      },
      "execution_count": null,
      "outputs": [
        {
          "output_type": "display_data",
          "data": {
            "text/plain": [
              "Downloading:   0%|          | 0.00/25.0 [00:00<?, ?B/s]"
            ],
            "application/vnd.jupyter.widget-view+json": {
              "version_major": 2,
              "version_minor": 0,
              "model_id": "c4dfa99ce11f4c53ba2f80096f766ef2"
            }
          },
          "metadata": {}
        },
        {
          "output_type": "display_data",
          "data": {
            "text/plain": [
              "Downloading:   0%|          | 0.00/1.21k [00:00<?, ?B/s]"
            ],
            "application/vnd.jupyter.widget-view+json": {
              "version_major": 2,
              "version_minor": 0,
              "model_id": "772995cbeffd44e099bcfc4da7c0570c"
            }
          },
          "metadata": {}
        },
        {
          "output_type": "display_data",
          "data": {
            "text/plain": [
              "Downloading:   0%|          | 0.00/792k [00:00<?, ?B/s]"
            ],
            "application/vnd.jupyter.widget-view+json": {
              "version_major": 2,
              "version_minor": 0,
              "model_id": "b75530e473e547f8a20c0a5e1de221fd"
            }
          },
          "metadata": {}
        },
        {
          "output_type": "display_data",
          "data": {
            "text/plain": [
              "Downloading:   0%|          | 0.00/1.79k [00:00<?, ?B/s]"
            ],
            "application/vnd.jupyter.widget-view+json": {
              "version_major": 2,
              "version_minor": 0,
              "model_id": "19ca104fdd2c4c41a6bb6dc5a9fcd29d"
            }
          },
          "metadata": {}
        },
        {
          "output_type": "display_data",
          "data": {
            "text/plain": [
              "Downloading:   0%|          | 0.00/892M [00:00<?, ?B/s]"
            ],
            "application/vnd.jupyter.widget-view+json": {
              "version_major": 2,
              "version_minor": 0,
              "model_id": "b64ff65985b84f0497a9d75248bda19c"
            }
          },
          "metadata": {}
        }
      ]
    },
    {
      "cell_type": "code",
      "source": [
        "import torch"
      ],
      "metadata": {
        "id": "vqnsaLp05tnl"
      },
      "execution_count": null,
      "outputs": []
    },
    {
      "cell_type": "code",
      "source": [
        "TfartfdataX=[]\n",
        "TfartfdataY=[]"
      ],
      "metadata": {
        "id": "wIKvNlml6Mj9"
      },
      "execution_count": null,
      "outputs": []
    },
    {
      "cell_type": "code",
      "source": [
        "with open ('/content/TfartfdataX12.txt','r') as dosya:\n",
        "   for line in dosya.read().splitlines():\n",
        "     TfartfdataX.append(line)"
      ],
      "metadata": {
        "id": "D_vHoo-V0eQf"
      },
      "execution_count": null,
      "outputs": []
    },
    {
      "cell_type": "code",
      "source": [],
      "metadata": {
        "id": "wcLwhT3Mxm7p"
      },
      "execution_count": null,
      "outputs": []
    },
    {
      "cell_type": "markdown",
      "source": [
        "# ***T5 YAPAY VERİ ÜRETME***"
      ],
      "metadata": {
        "id": "a_LD2r4rI9Lv"
      }
    },
    {
      "cell_type": "code",
      "source": [
        "for k in range(X_train.shape[0]):  \n",
        "  device = torch.device(\"cuda\" if torch.cuda.is_available() else \"cpu\")\n",
        "\n",
        "  text =\"paraphrase: \" + origdataX[k] + \" </s>\" \n",
        "\n",
        "  encoding = tokenizerTf.encode_plus(text,pad_to_max_length=True, return_tensors=\"pt\",truncation = True)\n",
        "\n",
        "  input_ids, attention_masks = encoding[\"input_ids\"].to(device), encoding[\"attention_mask\"].to(device)\n",
        "\n",
        "  outputs = modelTf.generate(\n",
        "      input_ids=input_ids, attention_mask=attention_masks,\n",
        "      max_length=10000,\n",
        "      do_sample=True,\n",
        "      top_k=220,\n",
        "      top_p=1,\n",
        "      early_stopping=True,\n",
        "      num_return_sequences=1\n",
        "  )\n",
        "\n",
        "  for output in outputs:\n",
        "      line = tokenizerTf.decode(output, skip_special_tokens=True,clean_up_tokenization_spaces=True)\n",
        "      TfartfdataX.append(line)\n",
        "  TfartfdataY.append(origdataY[k])\n",
        "  TfartfdataY.append(origdataY[k])#2 cümle için\n",
        "  print(k)   \n"
      ],
      "metadata": {
        "id": "AbzKe2_L5BLP"
      },
      "execution_count": null,
      "outputs": []
    },
    {
      "cell_type": "code",
      "source": [
        "with open('TfartfdataX31.txt', 'w') as f:\n",
        "    for item in TfartfdataX:\n",
        "        f.write(\"%s\\n\" % item)"
      ],
      "metadata": {
        "id": "vTL4WSNHakrk"
      },
      "execution_count": null,
      "outputs": []
    },
    {
      "cell_type": "code",
      "source": [
        "TfartfdataXtemp=TfartfdataX"
      ],
      "metadata": {
        "id": "IAvRX5lHRNNa"
      },
      "execution_count": null,
      "outputs": []
    },
    {
      "cell_type": "code",
      "source": [
        "TfartfdataX = np.array(TfartfdataX)\n",
        "TfartfdataY = np.array(TfartfdataY)"
      ],
      "metadata": {
        "id": "C4MTbkLqJGY_"
      },
      "execution_count": null,
      "outputs": []
    },
    {
      "cell_type": "code",
      "source": [
        "TfartfdataX=TfartfdataX.flatten()\n",
        "TfartfdataY=TfartfdataY.flatten()"
      ],
      "metadata": {
        "id": "pMvJbKt7JHC0"
      },
      "execution_count": null,
      "outputs": []
    },
    {
      "cell_type": "code",
      "source": [
        "X_train2 = tokenizer.texts_to_sequences(TfartfdataX)\n",
        "X_train2 = pad_sequences(X_train2, maxlen=MAX_SEQUENCE_LENGTH)\n",
        "print('Shape of data tensor:', X_train2.shape)"
      ],
      "metadata": {
        "colab": {
          "base_uri": "https://localhost:8080/"
        },
        "id": "HXnQS-nf152x",
        "outputId": "2d8a5892-f1ee-48b2-e811-a07a5a7f2707"
      },
      "execution_count": null,
      "outputs": [
        {
          "output_type": "stream",
          "name": "stdout",
          "text": [
            "Shape of data tensor: (4500, 1000)\n"
          ]
        }
      ]
    },
    {
      "cell_type": "code",
      "source": [
        "labelencoder = preprocessing.LabelEncoder()\n",
        "PegartfdataYtemp = labelencoder.fit_transform(TfartfdataY)\n",
        "print('Shape of label tensor:', PegartfdataYtemp.shape)"
      ],
      "metadata": {
        "colab": {
          "base_uri": "https://localhost:8080/"
        },
        "id": "_Mcj2qDA19XR",
        "outputId": "b7e7d0d9-de66-43b0-f083-13bfbc08b8ef"
      },
      "execution_count": null,
      "outputs": [
        {
          "output_type": "stream",
          "name": "stdout",
          "text": [
            "Shape of label tensor: (4500,)\n"
          ]
        }
      ]
    },
    {
      "cell_type": "code",
      "source": [
        "PegartfdataYtemp = to_categorical(TfartfdataY)#2.Data set için"
      ],
      "metadata": {
        "id": "PDslcTnYnS-x"
      },
      "execution_count": null,
      "outputs": []
    },
    {
      "cell_type": "code",
      "source": [
        "dforgx = pd.DataFrame(origdataX[:2250], columns = ['sentiment'])\n",
        "dfartx = pd.DataFrame(TfartfdataX[:2250], columns = ['sentiment'])"
      ],
      "metadata": {
        "id": "7AGAD0_ZJHsP"
      },
      "execution_count": null,
      "outputs": []
    },
    {
      "cell_type": "code",
      "source": [
        "len(dfy)"
      ],
      "metadata": {
        "colab": {
          "base_uri": "https://localhost:8080/"
        },
        "id": "uP5YuVPjW5le",
        "outputId": "d84d9645-724f-44e2-bbd9-6832797ad8d3"
      },
      "execution_count": null,
      "outputs": [
        {
          "output_type": "execute_result",
          "data": {
            "text/plain": [
              "4500"
            ]
          },
          "metadata": {},
          "execution_count": 83
        }
      ]
    },
    {
      "cell_type": "code",
      "source": [
        "dfx=pd.concat([dforgx, dfartx], axis = 0)"
      ],
      "metadata": {
        "id": "HbCOl4SOJHbU"
      },
      "execution_count": null,
      "outputs": []
    },
    {
      "cell_type": "code",
      "source": [
        "dforgy = pd.DataFrame(origdataY[:2250], columns = ['label'])\n",
        "dfarty = pd.DataFrame(TfartfdataY[:2250], columns = ['label'])"
      ],
      "metadata": {
        "id": "jxyY8sPfWh19"
      },
      "execution_count": null,
      "outputs": []
    },
    {
      "cell_type": "code",
      "source": [
        "dfy=pd.concat([dforgy, dforgy], axis = 0)"
      ],
      "metadata": {
        "id": "Or-_fpz3Wkuo"
      },
      "execution_count": null,
      "outputs": []
    },
    {
      "cell_type": "code",
      "source": [
        "dfall=pd.concat([dfx, dfy], axis = 1)"
      ],
      "metadata": {
        "id": "_ei_3N58XJjz"
      },
      "execution_count": null,
      "outputs": []
    },
    {
      "cell_type": "code",
      "source": [
        "dfall = shuffle(dfall)"
      ],
      "metadata": {
        "id": "sleBABY9XvHs"
      },
      "execution_count": null,
      "outputs": []
    },
    {
      "cell_type": "code",
      "source": [
        "dfall = dfall.to_numpy()"
      ],
      "metadata": {
        "id": "Y_Oa8KJTYzDt"
      },
      "execution_count": null,
      "outputs": []
    },
    {
      "cell_type": "code",
      "source": [
        "shuffleX=[]\n",
        "shuffleY=[]\n",
        "for i in range(len(dfall)):\n",
        "  shuffleX.append(dfall[i][0])\n",
        "  shuffleY.append(dfall[i][1])"
      ],
      "metadata": {
        "id": "_jcuqRcZYJWr"
      },
      "execution_count": null,
      "outputs": []
    },
    {
      "cell_type": "code",
      "source": [
        "shuffleX = np.array(shuffleX)\n",
        "shuffleY = np.array(shuffleY)"
      ],
      "metadata": {
        "id": "e1m0bo7ZaZ7y"
      },
      "execution_count": null,
      "outputs": []
    },
    {
      "cell_type": "code",
      "source": [
        "X_train2 = tokenizer.texts_to_sequences(shuffleX)\n",
        "X_train2 = pad_sequences(X_train2, maxlen=MAX_SEQUENCE_LENGTH)\n",
        "print('Shape of data tensor:', X_train2.shape)"
      ],
      "metadata": {
        "colab": {
          "base_uri": "https://localhost:8080/"
        },
        "id": "_6Bn5rC8757H",
        "outputId": "672d44eb-4314-43bd-c700-46f963e64c57"
      },
      "execution_count": null,
      "outputs": [
        {
          "output_type": "stream",
          "name": "stdout",
          "text": [
            "Shape of data tensor: (4500, 1000)\n"
          ]
        }
      ]
    },
    {
      "cell_type": "code",
      "source": [
        "labelencoder = preprocessing.LabelEncoder()\n",
        "PegartfdataYtemp = labelencoder.fit_transform(shuffleY)\n",
        "print('Shape of label tensor:', PegartfdataYtemp.shape)"
      ],
      "metadata": {
        "colab": {
          "base_uri": "https://localhost:8080/"
        },
        "id": "ugpap8nv74Uh",
        "outputId": "e510cfea-3ed6-44cd-ff39-5f5230a7a044"
      },
      "execution_count": null,
      "outputs": [
        {
          "output_type": "stream",
          "name": "stdout",
          "text": [
            "Shape of label tensor: (4500,)\n"
          ]
        }
      ]
    },
    {
      "cell_type": "code",
      "source": [
        "PegartfdataYtemp = to_categorical(shuffleY)#2.Data set için"
      ],
      "metadata": {
        "id": "ZA0DtbhwVqmq"
      },
      "execution_count": null,
      "outputs": []
    },
    {
      "cell_type": "code",
      "source": [
        "X_train2 = vectorizer.transform(shuffleX)"
      ],
      "metadata": {
        "id": "kaMToeOIZCh9"
      },
      "execution_count": null,
      "outputs": []
    },
    {
      "cell_type": "code",
      "source": [
        "history_dict2 = history2.history\n",
        "loss_values2 = history_dict2['loss']\n",
        "val_loss_values2 = history_dict2['val_loss']\n",
        "accuracy2 = history_dict2['accuracy']\n",
        "val_accuracy2 = history_dict2['val_accuracy']"
      ],
      "metadata": {
        "id": "YzB0RELTa49N"
      },
      "execution_count": null,
      "outputs": []
    },
    {
      "cell_type": "code",
      "source": [
        "plt.plot(accuracy2, label='Karışık Train Acc',color=\"red\")\n",
        "plt.plot(val_accuracy2, label='Karışık Test Acc',color=\"blue\")\n",
        "\n",
        "plt.title('Karışık -Acc')\n",
        "plt.legend(loc = 'best')\n",
        "plt.show()\n"
      ],
      "metadata": {
        "colab": {
          "base_uri": "https://localhost:8080/",
          "height": 281
        },
        "id": "HnQ12cVQbUm4",
        "outputId": "b0564194-6480-432e-e8a8-d6184b34a3c0"
      },
      "execution_count": null,
      "outputs": [
        {
          "output_type": "display_data",
          "data": {
            "text/plain": [
              "<Figure size 432x288 with 1 Axes>"
            ],
            "image/png": "[encoded data removed]"
          },
          "metadata": {
            "needs_background": "light"
          }
        }
      ]
    },
    {
      "cell_type": "code",
      "source": [
        "plt.plot(loss_values2, label='Karışık-Train-Loss',color=\"green\")\n",
        "plt.plot(val_loss_values2, label='Karışık-Test-Loss',color=\"black\")\n",
        "plt.title('Karışık -Loss')\n",
        "plt.legend(loc = 'best')\n",
        "plt.show()"
      ],
      "metadata": {
        "colab": {
          "base_uri": "https://localhost:8080/",
          "height": 281
        },
        "id": "uiYI-AtTbXKH",
        "outputId": "d7b55dd9-d748-4018-f7bb-d4ed750b3558"
      },
      "execution_count": null,
      "outputs": [
        {
          "output_type": "display_data",
          "data": {
            "text/plain": [
              "<Figure size 432x288 with 1 Axes>"
            ],
            "image/png": "[encoded data removed]"
          },
          "metadata": {
            "needs_background": "light"
          }
        }
      ]
    }
  ]
}